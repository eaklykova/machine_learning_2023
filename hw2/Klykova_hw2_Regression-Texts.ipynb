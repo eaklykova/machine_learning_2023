{
 "cells": [
  {
   "cell_type": "markdown",
   "metadata": {},
   "source": [
    "# Д/З 2: Регрессия\n",
    "\n",
    "### Выполнила Елизавета Клыкова, МКЛ221\n",
    "\n",
    "* Возьмите ноутбук из второго занятия. В нем есть семейство моделей регрессии (Linear, Ridge, Lasso).\n",
    "* Попробуйте потренировать и провалидировать их на датасете с которым мы работали на занятиии, но в этот раз поменяйте гиперпараметры при обучении и/или предобработку данных (например, можно более точно токенизировать текст, убрать пунктуацию, etc).\n",
    "* Расскажите, как изменения гиперпараметров и предобработка данных повлияли на метрики (MSE/RMSE/MAE) предсказательной силы ваших моделей."
   ]
  },
  {
   "cell_type": "markdown",
   "metadata": {},
   "source": [
    "## Подготовка данных\n",
    "\n",
    "Перед обучением обучением модели нужно подготовить данные:\n",
    "\n",
    "- найти\\собрать данные\n",
    "- почистить и предобработать\n",
    "- преобразовать в матрицы\n",
    "\n",
    "**Здесь пока повторяется то, что было на занятии**"
   ]
  },
  {
   "cell_type": "code",
   "execution_count": 1,
   "metadata": {
    "tags": []
   },
   "outputs": [],
   "source": [
    "# импорты необходимых библиотек\n",
    "import random\n",
    "import pandas as pd\n",
    "import numpy as np\n",
    "\n",
    "import seaborn as sns\n",
    "import matplotlib.pyplot as plt\n",
    "# %matplotlib inline\n",
    "\n",
    "# import gensim\n",
    "from gensim.models.doc2vec import Doc2Vec, TaggedDocument\n",
    "from sklearn.linear_model import LinearRegression, Ridge, Lasso\n",
    "from sklearn.preprocessing import StandardScaler\n",
    "from sklearn.model_selection import train_test_split, GridSearchCV\n",
    "from sklearn.metrics import mean_absolute_error, mean_squared_error, accuracy_score"
   ]
  },
  {
   "cell_type": "code",
   "execution_count": 2,
   "metadata": {},
   "outputs": [],
   "source": [
    "# фиксируем seed для воспроизводимости\n",
    "seed = 117\n",
    "random.seed(seed)\n",
    "np.random.seed(seed)"
   ]
  },
  {
   "cell_type": "code",
   "execution_count": 3,
   "metadata": {
    "tags": []
   },
   "outputs": [
    {
     "name": "stdout",
     "output_type": "stream",
     "text": [
      "(1000, 12)\n"
     ]
    },
    {
     "data": {
      "text/html": [
       "<div>\n",
       "<style scoped>\n",
       "    .dataframe tbody tr th:only-of-type {\n",
       "        vertical-align: middle;\n",
       "    }\n",
       "\n",
       "    .dataframe tbody tr th {\n",
       "        vertical-align: top;\n",
       "    }\n",
       "\n",
       "    .dataframe thead th {\n",
       "        text-align: right;\n",
       "    }\n",
       "</style>\n",
       "<table border=\"1\" class=\"dataframe\">\n",
       "  <thead>\n",
       "    <tr style=\"text-align: right;\">\n",
       "      <th></th>\n",
       "      <th>Rank</th>\n",
       "      <th>Title</th>\n",
       "      <th>Genre</th>\n",
       "      <th>Description</th>\n",
       "      <th>Director</th>\n",
       "      <th>Actors</th>\n",
       "      <th>Year</th>\n",
       "      <th>Runtime (Minutes)</th>\n",
       "      <th>Rating</th>\n",
       "      <th>Votes</th>\n",
       "      <th>Revenue (Millions)</th>\n",
       "      <th>Metascore</th>\n",
       "    </tr>\n",
       "  </thead>\n",
       "  <tbody>\n",
       "    <tr>\n",
       "      <th>0</th>\n",
       "      <td>1</td>\n",
       "      <td>Guardians of the Galaxy</td>\n",
       "      <td>Action,Adventure,Sci-Fi</td>\n",
       "      <td>A group of intergalactic criminals are forced ...</td>\n",
       "      <td>James Gunn</td>\n",
       "      <td>Chris Pratt, Vin Diesel, Bradley Cooper, Zoe S...</td>\n",
       "      <td>2014</td>\n",
       "      <td>121</td>\n",
       "      <td>8.1</td>\n",
       "      <td>757074</td>\n",
       "      <td>333.13</td>\n",
       "      <td>76.0</td>\n",
       "    </tr>\n",
       "    <tr>\n",
       "      <th>1</th>\n",
       "      <td>2</td>\n",
       "      <td>Prometheus</td>\n",
       "      <td>Adventure,Mystery,Sci-Fi</td>\n",
       "      <td>Following clues to the origin of mankind, a te...</td>\n",
       "      <td>Ridley Scott</td>\n",
       "      <td>Noomi Rapace, Logan Marshall-Green, Michael Fa...</td>\n",
       "      <td>2012</td>\n",
       "      <td>124</td>\n",
       "      <td>7.0</td>\n",
       "      <td>485820</td>\n",
       "      <td>126.46</td>\n",
       "      <td>65.0</td>\n",
       "    </tr>\n",
       "    <tr>\n",
       "      <th>2</th>\n",
       "      <td>3</td>\n",
       "      <td>Split</td>\n",
       "      <td>Horror,Thriller</td>\n",
       "      <td>Three girls are kidnapped by a man with a diag...</td>\n",
       "      <td>M. Night Shyamalan</td>\n",
       "      <td>James McAvoy, Anya Taylor-Joy, Haley Lu Richar...</td>\n",
       "      <td>2016</td>\n",
       "      <td>117</td>\n",
       "      <td>7.3</td>\n",
       "      <td>157606</td>\n",
       "      <td>138.12</td>\n",
       "      <td>62.0</td>\n",
       "    </tr>\n",
       "  </tbody>\n",
       "</table>\n",
       "</div>"
      ],
      "text/plain": [
       "   Rank                    Title                     Genre  \\\n",
       "0     1  Guardians of the Galaxy   Action,Adventure,Sci-Fi   \n",
       "1     2               Prometheus  Adventure,Mystery,Sci-Fi   \n",
       "2     3                    Split           Horror,Thriller   \n",
       "\n",
       "                                         Description            Director  \\\n",
       "0  A group of intergalactic criminals are forced ...          James Gunn   \n",
       "1  Following clues to the origin of mankind, a te...        Ridley Scott   \n",
       "2  Three girls are kidnapped by a man with a diag...  M. Night Shyamalan   \n",
       "\n",
       "                                              Actors  Year  Runtime (Minutes)  \\\n",
       "0  Chris Pratt, Vin Diesel, Bradley Cooper, Zoe S...  2014                121   \n",
       "1  Noomi Rapace, Logan Marshall-Green, Michael Fa...  2012                124   \n",
       "2  James McAvoy, Anya Taylor-Joy, Haley Lu Richar...  2016                117   \n",
       "\n",
       "   Rating   Votes  Revenue (Millions)  Metascore  \n",
       "0     8.1  757074              333.13       76.0  \n",
       "1     7.0  485820              126.46       65.0  \n",
       "2     7.3  157606              138.12       62.0  "
      ]
     },
     "execution_count": 3,
     "metadata": {},
     "output_type": "execute_result"
    }
   ],
   "source": [
    "data = pd.read_csv('IMDB-Movie-Data.csv')\n",
    "print(data.shape)\n",
    "\n",
    "data.head(3)"
   ]
  },
  {
   "cell_type": "markdown",
   "metadata": {},
   "source": [
    "#### Удаляем NaN\n",
    "Заменять на 0 не хочется, поскольку в случае с кассовыми сборами 0 -- это совсем не то же самое, что отсутствие информации."
   ]
  },
  {
   "cell_type": "code",
   "execution_count": 4,
   "metadata": {},
   "outputs": [
    {
     "name": "stdout",
     "output_type": "stream",
     "text": [
      "Rank                  False\n",
      "Title                 False\n",
      "Genre                 False\n",
      "Description           False\n",
      "Director              False\n",
      "Actors                False\n",
      "Year                  False\n",
      "Runtime (Minutes)     False\n",
      "Rating                False\n",
      "Votes                 False\n",
      "Revenue (Millions)     True\n",
      "Metascore              True\n",
      "dtype: bool\n"
     ]
    },
    {
     "data": {
      "text/plain": [
       "(1000, 12)"
      ]
     },
     "execution_count": 4,
     "metadata": {},
     "output_type": "execute_result"
    }
   ],
   "source": [
    "print(data.isna().any())\n",
    "data.shape"
   ]
  },
  {
   "cell_type": "code",
   "execution_count": 5,
   "metadata": {},
   "outputs": [
    {
     "data": {
      "text/plain": [
       "(838, 12)"
      ]
     },
     "execution_count": 5,
     "metadata": {},
     "output_type": "execute_result"
    }
   ],
   "source": [
    "data.dropna(inplace=True)\n",
    "data.reset_index(drop=True, inplace=True)\n",
    "data.shape"
   ]
  },
  {
   "cell_type": "markdown",
   "metadata": {},
   "source": [
    "Попробуем предсказывать рейтинг фильма по данным его описания, года, длины в минутах и кассовых сборов.\n",
    "\n",
    "Колонка \"Rating\" станет **целевой переменной, или таргетом** (y). Остальные данные будут **обучающей выборкой** (X)."
   ]
  },
  {
   "cell_type": "code",
   "execution_count": 6,
   "metadata": {},
   "outputs": [
    {
     "data": {
      "text/plain": [
       "0      A group of intergalactic criminals are forced ...\n",
       "1      Following clues to the origin of mankind, a te...\n",
       "2      Three girls are kidnapped by a man with a diag...\n",
       "3      In a city of humanoid animals, a hustling thea...\n",
       "4      A secret government agency recruits some of th...\n",
       "                             ...                        \n",
       "833    While still out to destroy the evil Umbrella C...\n",
       "834    3 high school seniors throw a birthday party t...\n",
       "835    Three American college students studying abroa...\n",
       "836    Romantic sparks occur between two dance studen...\n",
       "837    A stuffy businessman finds himself trapped ins...\n",
       "Name: Description, Length: 838, dtype: object"
      ]
     },
     "execution_count": 6,
     "metadata": {},
     "output_type": "execute_result"
    }
   ],
   "source": [
    "data.Description"
   ]
  },
  {
   "cell_type": "code",
   "execution_count": 7,
   "metadata": {
    "tags": []
   },
   "outputs": [
    {
     "data": {
      "text/plain": [
       "0      [a, group, of, intergalactic, criminals, are, ...\n",
       "1      [following, clues, to, the, origin, of, mankin...\n",
       "2      [three, girls, are, kidnapped, by, a, man, wit...\n",
       "3      [in, a, city, of, humanoid, animals,, a, hustl...\n",
       "4      [a, secret, government, agency, recruits, some...\n",
       "                             ...                        \n",
       "833    [while, still, out, to, destroy, the, evil, um...\n",
       "834    [3, high, school, seniors, throw, a, birthday,...\n",
       "835    [three, american, college, students, studying,...\n",
       "836    [romantic, sparks, occur, between, two, dance,...\n",
       "837    [a, stuffy, businessman, finds, himself, trapp...\n",
       "Name: text, Length: 838, dtype: object"
      ]
     },
     "execution_count": 7,
     "metadata": {},
     "output_type": "execute_result"
    }
   ],
   "source": [
    "# подготовим описания фильмов\n",
    "data[\"text\"] = data.Description.apply(lambda x: x.lower().split()) \n",
    "data[\"text\"]"
   ]
  },
  {
   "cell_type": "code",
   "execution_count": 8,
   "metadata": {
    "tags": []
   },
   "outputs": [],
   "source": [
    "input_text = list(data.text.values)"
   ]
  },
  {
   "cell_type": "code",
   "execution_count": 9,
   "metadata": {
    "tags": []
   },
   "outputs": [
    {
     "data": {
      "text/plain": [
       "TaggedDocument(words=['a', 'group', 'of', 'intergalactic', 'criminals', 'are', 'forced', 'to', 'work', 'together', 'to', 'stop', 'a', 'fanatical', 'warrior', 'from', 'taking', 'control', 'of', 'the', 'universe.'], tags=[0])"
      ]
     },
     "execution_count": 9,
     "metadata": {},
     "output_type": "execute_result"
    }
   ],
   "source": [
    "documents = [TaggedDocument(doc, [i]) for i, doc in enumerate(input_text)]\n",
    "documents[0]"
   ]
  },
  {
   "cell_type": "code",
   "execution_count": 10,
   "metadata": {},
   "outputs": [],
   "source": [
    "# обучаем модель на текстах описаний фильмов (можно поизменять параметры)\n",
    "model = Doc2Vec(documents, vector_size=5, window=2, min_count=1, workers=4, seed=seed)"
   ]
  },
  {
   "cell_type": "code",
   "execution_count": 11,
   "metadata": {},
   "outputs": [],
   "source": [
    "model.save(\"D2V.model\")  # сохранение модели"
   ]
  },
  {
   "cell_type": "code",
   "execution_count": 12,
   "metadata": {},
   "outputs": [
    {
     "data": {
      "text/plain": [
       "array([-0.2652736 , -0.03069742,  0.10703647, -0.0064543 , -0.07769807],\n",
       "      dtype=float32)"
      ]
     },
     "execution_count": 12,
     "metadata": {},
     "output_type": "execute_result"
    }
   ],
   "source": [
    "# так можно посмотреть на векторы текстов, на которых училась модель\n",
    "# индекс [] около documents -- это индекс текста из датасета\n",
    "\n",
    "model.dv[documents[0].tags[0]]"
   ]
  },
  {
   "cell_type": "markdown",
   "metadata": {},
   "source": [
    "Теперь нужно добавить векторы в датасет с остальными параметрами."
   ]
  },
  {
   "cell_type": "code",
   "execution_count": 13,
   "metadata": {},
   "outputs": [],
   "source": [
    "# создадим список с векторами для каждого текста\n",
    "vectors = []\n",
    "for x in documents:\n",
    "    vec = list(model.dv[x.tags][0])\n",
    "    vectors.append(vec)"
   ]
  },
  {
   "cell_type": "code",
   "execution_count": 14,
   "metadata": {
    "tags": []
   },
   "outputs": [
    {
     "data": {
      "text/html": [
       "<div>\n",
       "<style scoped>\n",
       "    .dataframe tbody tr th:only-of-type {\n",
       "        vertical-align: middle;\n",
       "    }\n",
       "\n",
       "    .dataframe tbody tr th {\n",
       "        vertical-align: top;\n",
       "    }\n",
       "\n",
       "    .dataframe thead th {\n",
       "        text-align: right;\n",
       "    }\n",
       "</style>\n",
       "<table border=\"1\" class=\"dataframe\">\n",
       "  <thead>\n",
       "    <tr style=\"text-align: right;\">\n",
       "      <th></th>\n",
       "      <th>v1</th>\n",
       "      <th>v2</th>\n",
       "      <th>v3</th>\n",
       "      <th>v4</th>\n",
       "      <th>v5</th>\n",
       "    </tr>\n",
       "  </thead>\n",
       "  <tbody>\n",
       "    <tr>\n",
       "      <th>0</th>\n",
       "      <td>-0.265274</td>\n",
       "      <td>-0.030697</td>\n",
       "      <td>0.107036</td>\n",
       "      <td>-0.006454</td>\n",
       "      <td>-0.077698</td>\n",
       "    </tr>\n",
       "    <tr>\n",
       "      <th>1</th>\n",
       "      <td>-0.259928</td>\n",
       "      <td>0.102542</td>\n",
       "      <td>0.090047</td>\n",
       "      <td>-0.179952</td>\n",
       "      <td>0.021027</td>\n",
       "    </tr>\n",
       "    <tr>\n",
       "      <th>2</th>\n",
       "      <td>-0.195645</td>\n",
       "      <td>0.244577</td>\n",
       "      <td>0.094356</td>\n",
       "      <td>-0.577128</td>\n",
       "      <td>-0.227514</td>\n",
       "    </tr>\n",
       "    <tr>\n",
       "      <th>3</th>\n",
       "      <td>-0.716626</td>\n",
       "      <td>0.295276</td>\n",
       "      <td>-0.103655</td>\n",
       "      <td>-0.727374</td>\n",
       "      <td>-0.161014</td>\n",
       "    </tr>\n",
       "    <tr>\n",
       "      <th>4</th>\n",
       "      <td>-0.392078</td>\n",
       "      <td>0.111106</td>\n",
       "      <td>0.193627</td>\n",
       "      <td>-0.344898</td>\n",
       "      <td>0.007650</td>\n",
       "    </tr>\n",
       "    <tr>\n",
       "      <th>...</th>\n",
       "      <td>...</td>\n",
       "      <td>...</td>\n",
       "      <td>...</td>\n",
       "      <td>...</td>\n",
       "      <td>...</td>\n",
       "    </tr>\n",
       "    <tr>\n",
       "      <th>833</th>\n",
       "      <td>-0.433192</td>\n",
       "      <td>-0.046895</td>\n",
       "      <td>0.046423</td>\n",
       "      <td>-0.607044</td>\n",
       "      <td>0.016483</td>\n",
       "    </tr>\n",
       "    <tr>\n",
       "      <th>834</th>\n",
       "      <td>-0.314163</td>\n",
       "      <td>0.249851</td>\n",
       "      <td>0.036047</td>\n",
       "      <td>-0.614425</td>\n",
       "      <td>-0.247134</td>\n",
       "    </tr>\n",
       "    <tr>\n",
       "      <th>835</th>\n",
       "      <td>-0.146316</td>\n",
       "      <td>-0.013046</td>\n",
       "      <td>-0.059592</td>\n",
       "      <td>-0.242093</td>\n",
       "      <td>-0.046573</td>\n",
       "    </tr>\n",
       "    <tr>\n",
       "      <th>836</th>\n",
       "      <td>-0.173083</td>\n",
       "      <td>0.256607</td>\n",
       "      <td>0.173760</td>\n",
       "      <td>-0.156157</td>\n",
       "      <td>0.151023</td>\n",
       "    </tr>\n",
       "    <tr>\n",
       "      <th>837</th>\n",
       "      <td>-0.120575</td>\n",
       "      <td>-0.013541</td>\n",
       "      <td>0.078781</td>\n",
       "      <td>-0.000137</td>\n",
       "      <td>0.078976</td>\n",
       "    </tr>\n",
       "  </tbody>\n",
       "</table>\n",
       "<p>838 rows × 5 columns</p>\n",
       "</div>"
      ],
      "text/plain": [
       "           v1        v2        v3        v4        v5\n",
       "0   -0.265274 -0.030697  0.107036 -0.006454 -0.077698\n",
       "1   -0.259928  0.102542  0.090047 -0.179952  0.021027\n",
       "2   -0.195645  0.244577  0.094356 -0.577128 -0.227514\n",
       "3   -0.716626  0.295276 -0.103655 -0.727374 -0.161014\n",
       "4   -0.392078  0.111106  0.193627 -0.344898  0.007650\n",
       "..        ...       ...       ...       ...       ...\n",
       "833 -0.433192 -0.046895  0.046423 -0.607044  0.016483\n",
       "834 -0.314163  0.249851  0.036047 -0.614425 -0.247134\n",
       "835 -0.146316 -0.013046 -0.059592 -0.242093 -0.046573\n",
       "836 -0.173083  0.256607  0.173760 -0.156157  0.151023\n",
       "837 -0.120575 -0.013541  0.078781 -0.000137  0.078976\n",
       "\n",
       "[838 rows x 5 columns]"
      ]
     },
     "execution_count": 14,
     "metadata": {},
     "output_type": "execute_result"
    }
   ],
   "source": [
    "# так получим датафрейм, где все компоненты векторов в отдельных столбцах\n",
    "split_df = pd.DataFrame(vectors,\n",
    "                        columns=['v1', 'v2', 'v3','v4',\"v5\"])\n",
    "\n",
    "split_df"
   ]
  },
  {
   "cell_type": "code",
   "execution_count": 15,
   "metadata": {},
   "outputs": [
    {
     "data": {
      "text/plain": [
       "(838, 18)"
      ]
     },
     "execution_count": 15,
     "metadata": {},
     "output_type": "execute_result"
    }
   ],
   "source": [
    "# теперь добавим его к основному датафрейму\n",
    "result = data.join(split_df, how='left')\n",
    "result.shape"
   ]
  },
  {
   "cell_type": "code",
   "execution_count": 16,
   "metadata": {},
   "outputs": [
    {
     "data": {
      "text/html": [
       "<div>\n",
       "<style scoped>\n",
       "    .dataframe tbody tr th:only-of-type {\n",
       "        vertical-align: middle;\n",
       "    }\n",
       "\n",
       "    .dataframe tbody tr th {\n",
       "        vertical-align: top;\n",
       "    }\n",
       "\n",
       "    .dataframe thead th {\n",
       "        text-align: right;\n",
       "    }\n",
       "</style>\n",
       "<table border=\"1\" class=\"dataframe\">\n",
       "  <thead>\n",
       "    <tr style=\"text-align: right;\">\n",
       "      <th></th>\n",
       "      <th>Rank</th>\n",
       "      <th>Title</th>\n",
       "      <th>Genre</th>\n",
       "      <th>Description</th>\n",
       "      <th>Director</th>\n",
       "      <th>Actors</th>\n",
       "      <th>Year</th>\n",
       "      <th>Runtime (Minutes)</th>\n",
       "      <th>Rating</th>\n",
       "      <th>Votes</th>\n",
       "      <th>Revenue (Millions)</th>\n",
       "      <th>Metascore</th>\n",
       "      <th>text</th>\n",
       "      <th>v1</th>\n",
       "      <th>v2</th>\n",
       "      <th>v3</th>\n",
       "      <th>v4</th>\n",
       "      <th>v5</th>\n",
       "    </tr>\n",
       "  </thead>\n",
       "  <tbody>\n",
       "    <tr>\n",
       "      <th>0</th>\n",
       "      <td>1</td>\n",
       "      <td>Guardians of the Galaxy</td>\n",
       "      <td>Action,Adventure,Sci-Fi</td>\n",
       "      <td>A group of intergalactic criminals are forced ...</td>\n",
       "      <td>James Gunn</td>\n",
       "      <td>Chris Pratt, Vin Diesel, Bradley Cooper, Zoe S...</td>\n",
       "      <td>2014</td>\n",
       "      <td>121</td>\n",
       "      <td>8.1</td>\n",
       "      <td>757074</td>\n",
       "      <td>333.13</td>\n",
       "      <td>76.0</td>\n",
       "      <td>[a, group, of, intergalactic, criminals, are, ...</td>\n",
       "      <td>-0.265274</td>\n",
       "      <td>-0.030697</td>\n",
       "      <td>0.107036</td>\n",
       "      <td>-0.006454</td>\n",
       "      <td>-0.077698</td>\n",
       "    </tr>\n",
       "    <tr>\n",
       "      <th>1</th>\n",
       "      <td>2</td>\n",
       "      <td>Prometheus</td>\n",
       "      <td>Adventure,Mystery,Sci-Fi</td>\n",
       "      <td>Following clues to the origin of mankind, a te...</td>\n",
       "      <td>Ridley Scott</td>\n",
       "      <td>Noomi Rapace, Logan Marshall-Green, Michael Fa...</td>\n",
       "      <td>2012</td>\n",
       "      <td>124</td>\n",
       "      <td>7.0</td>\n",
       "      <td>485820</td>\n",
       "      <td>126.46</td>\n",
       "      <td>65.0</td>\n",
       "      <td>[following, clues, to, the, origin, of, mankin...</td>\n",
       "      <td>-0.259928</td>\n",
       "      <td>0.102542</td>\n",
       "      <td>0.090047</td>\n",
       "      <td>-0.179952</td>\n",
       "      <td>0.021027</td>\n",
       "    </tr>\n",
       "    <tr>\n",
       "      <th>2</th>\n",
       "      <td>3</td>\n",
       "      <td>Split</td>\n",
       "      <td>Horror,Thriller</td>\n",
       "      <td>Three girls are kidnapped by a man with a diag...</td>\n",
       "      <td>M. Night Shyamalan</td>\n",
       "      <td>James McAvoy, Anya Taylor-Joy, Haley Lu Richar...</td>\n",
       "      <td>2016</td>\n",
       "      <td>117</td>\n",
       "      <td>7.3</td>\n",
       "      <td>157606</td>\n",
       "      <td>138.12</td>\n",
       "      <td>62.0</td>\n",
       "      <td>[three, girls, are, kidnapped, by, a, man, wit...</td>\n",
       "      <td>-0.195645</td>\n",
       "      <td>0.244577</td>\n",
       "      <td>0.094356</td>\n",
       "      <td>-0.577128</td>\n",
       "      <td>-0.227514</td>\n",
       "    </tr>\n",
       "  </tbody>\n",
       "</table>\n",
       "</div>"
      ],
      "text/plain": [
       "   Rank                    Title                     Genre  \\\n",
       "0     1  Guardians of the Galaxy   Action,Adventure,Sci-Fi   \n",
       "1     2               Prometheus  Adventure,Mystery,Sci-Fi   \n",
       "2     3                    Split           Horror,Thriller   \n",
       "\n",
       "                                         Description            Director  \\\n",
       "0  A group of intergalactic criminals are forced ...          James Gunn   \n",
       "1  Following clues to the origin of mankind, a te...        Ridley Scott   \n",
       "2  Three girls are kidnapped by a man with a diag...  M. Night Shyamalan   \n",
       "\n",
       "                                              Actors  Year  Runtime (Minutes)  \\\n",
       "0  Chris Pratt, Vin Diesel, Bradley Cooper, Zoe S...  2014                121   \n",
       "1  Noomi Rapace, Logan Marshall-Green, Michael Fa...  2012                124   \n",
       "2  James McAvoy, Anya Taylor-Joy, Haley Lu Richar...  2016                117   \n",
       "\n",
       "   Rating   Votes  Revenue (Millions)  Metascore  \\\n",
       "0     8.1  757074              333.13       76.0   \n",
       "1     7.0  485820              126.46       65.0   \n",
       "2     7.3  157606              138.12       62.0   \n",
       "\n",
       "                                                text        v1        v2  \\\n",
       "0  [a, group, of, intergalactic, criminals, are, ... -0.265274 -0.030697   \n",
       "1  [following, clues, to, the, origin, of, mankin... -0.259928  0.102542   \n",
       "2  [three, girls, are, kidnapped, by, a, man, wit... -0.195645  0.244577   \n",
       "\n",
       "         v3        v4        v5  \n",
       "0  0.107036 -0.006454 -0.077698  \n",
       "1  0.090047 -0.179952  0.021027  \n",
       "2  0.094356 -0.577128 -0.227514  "
      ]
     },
     "execution_count": 16,
     "metadata": {},
     "output_type": "execute_result"
    }
   ],
   "source": [
    "result.head(3)"
   ]
  },
  {
   "cell_type": "code",
   "execution_count": 17,
   "metadata": {
    "tags": []
   },
   "outputs": [
    {
     "data": {
      "text/html": [
       "<div>\n",
       "<style scoped>\n",
       "    .dataframe tbody tr th:only-of-type {\n",
       "        vertical-align: middle;\n",
       "    }\n",
       "\n",
       "    .dataframe tbody tr th {\n",
       "        vertical-align: top;\n",
       "    }\n",
       "\n",
       "    .dataframe thead th {\n",
       "        text-align: right;\n",
       "    }\n",
       "</style>\n",
       "<table border=\"1\" class=\"dataframe\">\n",
       "  <thead>\n",
       "    <tr style=\"text-align: right;\">\n",
       "      <th></th>\n",
       "      <th>Runtime (Minutes)</th>\n",
       "      <th>Year</th>\n",
       "      <th>Rating</th>\n",
       "      <th>Votes</th>\n",
       "      <th>Revenue (Millions)</th>\n",
       "      <th>Metascore</th>\n",
       "      <th>v1</th>\n",
       "      <th>v2</th>\n",
       "      <th>v3</th>\n",
       "      <th>v4</th>\n",
       "      <th>v5</th>\n",
       "    </tr>\n",
       "  </thead>\n",
       "  <tbody>\n",
       "    <tr>\n",
       "      <th>0</th>\n",
       "      <td>121</td>\n",
       "      <td>2014</td>\n",
       "      <td>8.1</td>\n",
       "      <td>757074</td>\n",
       "      <td>333.13</td>\n",
       "      <td>76.0</td>\n",
       "      <td>-0.265274</td>\n",
       "      <td>-0.030697</td>\n",
       "      <td>0.107036</td>\n",
       "      <td>-0.006454</td>\n",
       "      <td>-0.077698</td>\n",
       "    </tr>\n",
       "    <tr>\n",
       "      <th>1</th>\n",
       "      <td>124</td>\n",
       "      <td>2012</td>\n",
       "      <td>7.0</td>\n",
       "      <td>485820</td>\n",
       "      <td>126.46</td>\n",
       "      <td>65.0</td>\n",
       "      <td>-0.259928</td>\n",
       "      <td>0.102542</td>\n",
       "      <td>0.090047</td>\n",
       "      <td>-0.179952</td>\n",
       "      <td>0.021027</td>\n",
       "    </tr>\n",
       "    <tr>\n",
       "      <th>2</th>\n",
       "      <td>117</td>\n",
       "      <td>2016</td>\n",
       "      <td>7.3</td>\n",
       "      <td>157606</td>\n",
       "      <td>138.12</td>\n",
       "      <td>62.0</td>\n",
       "      <td>-0.195645</td>\n",
       "      <td>0.244577</td>\n",
       "      <td>0.094356</td>\n",
       "      <td>-0.577128</td>\n",
       "      <td>-0.227514</td>\n",
       "    </tr>\n",
       "    <tr>\n",
       "      <th>3</th>\n",
       "      <td>108</td>\n",
       "      <td>2016</td>\n",
       "      <td>7.2</td>\n",
       "      <td>60545</td>\n",
       "      <td>270.32</td>\n",
       "      <td>59.0</td>\n",
       "      <td>-0.716626</td>\n",
       "      <td>0.295276</td>\n",
       "      <td>-0.103655</td>\n",
       "      <td>-0.727374</td>\n",
       "      <td>-0.161014</td>\n",
       "    </tr>\n",
       "    <tr>\n",
       "      <th>4</th>\n",
       "      <td>123</td>\n",
       "      <td>2016</td>\n",
       "      <td>6.2</td>\n",
       "      <td>393727</td>\n",
       "      <td>325.02</td>\n",
       "      <td>40.0</td>\n",
       "      <td>-0.392078</td>\n",
       "      <td>0.111106</td>\n",
       "      <td>0.193627</td>\n",
       "      <td>-0.344898</td>\n",
       "      <td>0.007650</td>\n",
       "    </tr>\n",
       "  </tbody>\n",
       "</table>\n",
       "</div>"
      ],
      "text/plain": [
       "   Runtime (Minutes)  Year  Rating   Votes  Revenue (Millions)  Metascore  \\\n",
       "0                121  2014     8.1  757074              333.13       76.0   \n",
       "1                124  2012     7.0  485820              126.46       65.0   \n",
       "2                117  2016     7.3  157606              138.12       62.0   \n",
       "3                108  2016     7.2   60545              270.32       59.0   \n",
       "4                123  2016     6.2  393727              325.02       40.0   \n",
       "\n",
       "         v1        v2        v3        v4        v5  \n",
       "0 -0.265274 -0.030697  0.107036 -0.006454 -0.077698  \n",
       "1 -0.259928  0.102542  0.090047 -0.179952  0.021027  \n",
       "2 -0.195645  0.244577  0.094356 -0.577128 -0.227514  \n",
       "3 -0.716626  0.295276 -0.103655 -0.727374 -0.161014  \n",
       "4 -0.392078  0.111106  0.193627 -0.344898  0.007650  "
      ]
     },
     "execution_count": 17,
     "metadata": {},
     "output_type": "execute_result"
    }
   ],
   "source": [
    "# переопределим датасет, оставив только важное\n",
    "\n",
    "data_sm = result[['Runtime (Minutes)',\"Year\",\n",
    "                  'Rating', 'Votes',\n",
    "                  'Revenue (Millions)','Metascore',\"v1\",\"v2\",\"v3\",\"v4\",\"v5\"]\n",
    "                 ]\n",
    "\n",
    "data_sm.head()"
   ]
  },
  {
   "cell_type": "markdown",
   "metadata": {},
   "source": [
    "## Подготавливаем матрицы"
   ]
  },
  {
   "cell_type": "code",
   "execution_count": 18,
   "metadata": {
    "tags": []
   },
   "outputs": [
    {
     "data": {
      "text/plain": [
       "array([[ 1.21000000e+02,  2.01400000e+03,  7.57074000e+05, ...,\n",
       "         1.07036471e-01, -6.45429874e-03, -7.76980668e-02],\n",
       "       [ 1.24000000e+02,  2.01200000e+03,  4.85820000e+05, ...,\n",
       "         9.00470018e-02, -1.79951504e-01,  2.10266951e-02],\n",
       "       [ 1.17000000e+02,  2.01600000e+03,  1.57606000e+05, ...,\n",
       "         9.43559036e-02, -5.77127695e-01, -2.27514014e-01],\n",
       "       ...,\n",
       "       [ 9.40000000e+01,  2.00700000e+03,  7.31520000e+04, ...,\n",
       "        -5.95919937e-02, -2.42092997e-01, -4.65725549e-02],\n",
       "       [ 9.80000000e+01,  2.00800000e+03,  7.06990000e+04, ...,\n",
       "         1.73760206e-01, -1.56156614e-01,  1.51023403e-01],\n",
       "       [ 8.70000000e+01,  2.01600000e+03,  1.24350000e+04, ...,\n",
       "         7.87810236e-02, -1.36689370e-04,  7.89760500e-02]])"
      ]
     },
     "metadata": {},
     "output_type": "display_data"
    },
    {
     "data": {
      "text/plain": [
       "(838, 10)"
      ]
     },
     "metadata": {},
     "output_type": "display_data"
    }
   ],
   "source": [
    "# определяем X и y\n",
    "\n",
    "X = data_sm.drop([\"Rating\"],axis=1).values \n",
    "\n",
    "display(X, X.shape)"
   ]
  },
  {
   "cell_type": "code",
   "execution_count": 19,
   "metadata": {},
   "outputs": [
    {
     "data": {
      "text/plain": [
       "Runtime (Minutes)     False\n",
       "Year                  False\n",
       "Rating                False\n",
       "Votes                 False\n",
       "Revenue (Millions)    False\n",
       "Metascore             False\n",
       "v1                    False\n",
       "v2                    False\n",
       "v3                    False\n",
       "v4                    False\n",
       "v5                    False\n",
       "dtype: bool"
      ]
     },
     "execution_count": 19,
     "metadata": {},
     "output_type": "execute_result"
    }
   ],
   "source": [
    "data_sm.isna().any()"
   ]
  },
  {
   "cell_type": "code",
   "execution_count": 20,
   "metadata": {
    "tags": []
   },
   "outputs": [
    {
     "data": {
      "text/plain": [
       "(838,)"
      ]
     },
     "execution_count": 20,
     "metadata": {},
     "output_type": "execute_result"
    }
   ],
   "source": [
    "y = data_sm['Rating'].values  # отдельно вынесли массив с рейтингом\n",
    "y.shape"
   ]
  },
  {
   "cell_type": "markdown",
   "metadata": {},
   "source": [
    "Иногда бывает полезно [нормализовать](https://en.wikipedia.org/wiki/Normalization_(statistics)) данные: это позволяет исправить ситуацию, когда признаки представлены в разных единицах измерения. Для этого используется StandardScaler.\n",
    "\n",
    "До нормализации:"
   ]
  },
  {
   "cell_type": "code",
   "execution_count": 21,
   "metadata": {},
   "outputs": [
    {
     "data": {
      "text/plain": [
       "[121.0,\n",
       " 2014.0,\n",
       " 757074.0,\n",
       " 333.13,\n",
       " 76.0,\n",
       " -0.2652736008167267,\n",
       " -0.030697423964738846,\n",
       " 0.10703647136688232,\n",
       " -0.006454298738390207,\n",
       " -0.07769806683063507]"
      ]
     },
     "execution_count": 21,
     "metadata": {},
     "output_type": "execute_result"
    }
   ],
   "source": [
    "list(X[0])"
   ]
  },
  {
   "cell_type": "code",
   "execution_count": 22,
   "metadata": {},
   "outputs": [],
   "source": [
    "# использзуем стандартизатор\n",
    "sc = StandardScaler()\n",
    "\n",
    "X_train, X_test, y_train, y_test = train_test_split(sc.fit_transform(X), y, random_state=seed)"
   ]
  },
  {
   "cell_type": "markdown",
   "metadata": {},
   "source": [
    "После:"
   ]
  },
  {
   "cell_type": "code",
   "execution_count": 23,
   "metadata": {},
   "outputs": [
    {
     "data": {
      "text/plain": [
       "[0.3446159455904256,\n",
       " 0.47085817794460877,\n",
       " 2.921716098869265,\n",
       " 2.3795765793786647,\n",
       " 0.9694564665765606,\n",
       " 0.6518098512257587,\n",
       " -1.1728248639062577,\n",
       " 0.7200068260236252,\n",
       " 2.2578794219152503,\n",
       " 0.11296309013198073]"
      ]
     },
     "execution_count": 23,
     "metadata": {},
     "output_type": "execute_result"
    }
   ],
   "source": [
    "list(sc.fit_transform(X)[0])"
   ]
  },
  {
   "cell_type": "markdown",
   "metadata": {},
   "source": [
    "## Обучаем как на паре"
   ]
  },
  {
   "cell_type": "code",
   "execution_count": 24,
   "metadata": {
    "tags": []
   },
   "outputs": [
    {
     "data": {
      "text/plain": [
       "Ridge(random_state=117)"
      ]
     },
     "execution_count": 24,
     "metadata": {},
     "output_type": "execute_result"
    }
   ],
   "source": [
    "# задаем модель регрессора\n",
    "# силу регуляризации можно варьировать параметром alpha\n",
    "regressor = Ridge(random_state=seed)\n",
    "\n",
    "# обучаем\n",
    "regressor.fit(X_train, y_train)"
   ]
  },
  {
   "cell_type": "code",
   "execution_count": 25,
   "metadata": {},
   "outputs": [],
   "source": [
    "# давайте предскажем результат для тестовой выборки\n",
    "y_preds = regressor.predict(X_test)"
   ]
  },
  {
   "cell_type": "markdown",
   "metadata": {},
   "source": [
    "## Оценка алгоритма\n",
    "\n",
    "В качестве метрики будем использовать [среднюю абсолютную ошибку](https://www.youtube.com/watch?v=ZejnwbcU8nw). Она показывает отклонение от правильного ответа в тех же единах измерения.\n",
    "\n",
    "*(а вообще есть [разные способы](https://towardsdatascience.com/what-are-the-best-metrics-to-evaluate-your-regression-model-418ca481755b))*"
   ]
  },
  {
   "cell_type": "code",
   "execution_count": 26,
   "metadata": {},
   "outputs": [
    {
     "data": {
      "text/plain": [
       "0.3984207190994228"
      ]
     },
     "execution_count": 26,
     "metadata": {},
     "output_type": "execute_result"
    }
   ],
   "source": [
    "mean_absolute_error(y_test, y_preds) "
   ]
  },
  {
   "cell_type": "code",
   "execution_count": 27,
   "metadata": {},
   "outputs": [
    {
     "data": {
      "text/plain": [
       "0.2815074703956998"
      ]
     },
     "execution_count": 27,
     "metadata": {},
     "output_type": "execute_result"
    }
   ],
   "source": [
    "mean_squared_error(y_test, y_preds) "
   ]
  },
  {
   "cell_type": "markdown",
   "metadata": {},
   "source": [
    "Попробуйте разные значения для параметра регуляризации alpha при обучении модели. Как они влияют на величину ошибки?"
   ]
  },
  {
   "cell_type": "markdown",
   "metadata": {},
   "source": [
    "## Обучение моделей с другими гиперпараметрами\n",
    "Здесь сразу обратимся к гридсерчу, чтобы не перебирать параметры руками.\n",
    "\n",
    "### Linear"
   ]
  },
  {
   "cell_type": "code",
   "execution_count": 28,
   "metadata": {},
   "outputs": [
    {
     "name": "stdout",
     "output_type": "stream",
     "text": [
      "Best score: -0.4301980773016873\n",
      "Best parameters: {'fit_intercept': True, 'positive': False}\n"
     ]
    }
   ],
   "source": [
    "lin_reg = LinearRegression()\n",
    "\n",
    "linreg_params = {'fit_intercept': [True, False],\n",
    "                 'positive': [True, False]\n",
    "                 }\n",
    "\n",
    "# здесь беру метрику neg_MAE, потому что обычной MAE у grid search нет\n",
    "grid_search = GridSearchCV(lin_reg,\n",
    "                           param_grid=linreg_params,\n",
    "                           scoring='neg_mean_absolute_error',\n",
    "                           n_jobs=-1)\n",
    "\n",
    "grid_search.fit(X_train, y_train)\n",
    "\n",
    "print('Best score: {}'.format(grid_search.best_score_))\n",
    "print('Best parameters: {}'.format(grid_search.best_params_))"
   ]
  },
  {
   "cell_type": "markdown",
   "metadata": {},
   "source": [
    "Здесь лучшими оказались параметры, которые заложены в модель по дефолту: fit_intercept=True, positive=False. Попробуем Ridge-регуляризацию.\n",
    "\n",
    "### Ridge"
   ]
  },
  {
   "cell_type": "code",
   "execution_count": 29,
   "metadata": {},
   "outputs": [
    {
     "name": "stdout",
     "output_type": "stream",
     "text": [
      "Best score: -0.42863334389852137\n",
      "Best parameters: {'alpha': 50, 'fit_intercept': True, 'random_state': 117, 'solver': 'sparse_cg'}\n"
     ]
    }
   ],
   "source": [
    "ridge_model = Ridge()\n",
    "\n",
    "ridge_params = {'alpha': [0.0001, 0.0005, 0.005, 0.01, 0.05, 0.1,\n",
    "                          0.15, 0.5, 1, 2, 10, 50, 100, 200],\n",
    "                'fit_intercept': [True, False],\n",
    "                'solver': ['auto', 'svd', 'cholesky',\n",
    "                           'lsqr', 'sparse_cg', 'saga'],\n",
    "                'random_state': [seed]\n",
    "                }\n",
    "\n",
    "grid_search = GridSearchCV(ridge_model,\n",
    "                           param_grid=ridge_params,\n",
    "                           scoring='neg_mean_absolute_error',\n",
    "                           n_jobs=-1)\n",
    "\n",
    "grid_search.fit(X_train, y_train)\n",
    "\n",
    "print('Best score: {}'.format(grid_search.best_score_))\n",
    "print('Best parameters: {}'.format(grid_search.best_params_))"
   ]
  },
  {
   "cell_type": "markdown",
   "metadata": {},
   "source": [
    "Не помогло: отличие в ~0.002.\n",
    "\n",
    "### Lasso"
   ]
  },
  {
   "cell_type": "code",
   "execution_count": 30,
   "metadata": {},
   "outputs": [
    {
     "name": "stdout",
     "output_type": "stream",
     "text": [
      "Best score: -0.42629168810419527\n",
      "Best parameters: {'alpha': 0.01, 'fit_intercept': True, 'random_state': 117, 'selection': 'random'}\n"
     ]
    }
   ],
   "source": [
    "lasso_model = Lasso()\n",
    "\n",
    "lasso_params = {'alpha': [0.0001, 0.0005, 0.005, 0.01, 0.05, 0.1,\n",
    "                          0.15, 0.5, 1, 2, 10, 50, 100, 200],\n",
    "                'fit_intercept': [True, False],\n",
    "                'random_state': [seed],\n",
    "                'selection': ['cyclic', 'random']}\n",
    "\n",
    "grid_search = GridSearchCV(lasso_model,\n",
    "                           param_grid=lasso_params,\n",
    "                           scoring='neg_mean_absolute_error',\n",
    "                           n_jobs=-1)\n",
    "\n",
    "grid_search.fit(X_train, y_train)\n",
    "\n",
    "print('Best score: {}'.format(grid_search.best_score_))\n",
    "print('Best parameters: {}'.format(grid_search.best_params_))"
   ]
  },
  {
   "cell_type": "markdown",
   "metadata": {},
   "source": [
    "При фиксированном random seed лучше всего сработала Lasso, однако отличия несущественны. В этом случае регуляризация оказалась не нужна. Обучим модель с выбранными параметрами и оценим на тестовой выборке."
   ]
  },
  {
   "cell_type": "code",
   "execution_count": 31,
   "metadata": {},
   "outputs": [
    {
     "name": "stdout",
     "output_type": "stream",
     "text": [
      "MAE 0.4036729748511162\n",
      "MSE 0.2869694374834664\n"
     ]
    },
    {
     "data": {
      "text/plain": [
       "0.6248994564966357"
      ]
     },
     "execution_count": 31,
     "metadata": {},
     "output_type": "execute_result"
    }
   ],
   "source": [
    "new_regressor = Lasso(alpha=0.01, fit_intercept=True, random_state=seed, selection='random')\n",
    "new_regressor.fit(X_train, y_train)\n",
    "\n",
    "y_preds = new_regressor.predict(X_test)\n",
    "\n",
    "print('MAE', mean_absolute_error(y_test, y_preds))\n",
    "print('MSE', mean_squared_error(y_test, y_preds))\n",
    "\n",
    "new_regressor.score(X_test, y_test)"
   ]
  },
  {
   "cell_type": "markdown",
   "metadata": {},
   "source": [
    "### Другая токенизация + лемматизация\n",
    "\n",
    "Давайте попробуем другую предобработку: токенизацию и лемматизацию nltk с удалением пунктуации и стоп-слов."
   ]
  },
  {
   "cell_type": "code",
   "execution_count": 32,
   "metadata": {},
   "outputs": [],
   "source": [
    "import string\n",
    "from tqdm.auto import tqdm\n",
    "\n",
    "import nltk\n",
    "from nltk.tokenize import word_tokenize\n",
    "from nltk.corpus import stopwords\n",
    "from nltk.stem import WordNetLemmatizer\n",
    "\n",
    "# nltk.download('stopwords')\n",
    "# nltk.download('wordnet')\n",
    "# nltk.download('omw-1.4')\n",
    "# nltk.download('punkt')\n",
    "\n",
    "punct = string.punctuation\n",
    "stopws = stopwords.words('english')\n",
    "lemmatizer = WordNetLemmatizer()"
   ]
  },
  {
   "cell_type": "code",
   "execution_count": 33,
   "metadata": {},
   "outputs": [],
   "source": [
    "def lemmatize_with_nltk(text, lemmatize=True, punct=punct, stopws=stopws):\n",
    "    words = [w for w in word_tokenize(text.lower().strip()) if w not in punct]\n",
    "    if lemmatize:\n",
    "        return [lemmatizer.lemmatize(w) for w in words if w not in stopws]\n",
    "    return words"
   ]
  },
  {
   "cell_type": "code",
   "execution_count": 34,
   "metadata": {},
   "outputs": [],
   "source": [
    "def prepare_df(filename='IMDB-Movie-Data.csv', lemmatize=True):\n",
    "    data = pd.read_csv(filename)\n",
    "    data.dropna(inplace=True)\n",
    "    data.reset_index(drop=True, inplace=True)\n",
    "    data['text'] = data.Description.apply(lambda x: lemmatize_with_nltk(x, lemmatize))\n",
    "    data.drop(columns=['Rank', 'Title', 'Genre', 'Description', 'Director', 'Actors'],\n",
    "              inplace=True)\n",
    "    return data"
   ]
  },
  {
   "cell_type": "code",
   "execution_count": 35,
   "metadata": {},
   "outputs": [],
   "source": [
    "def make_vectors(data, vector_size, window, min_count, seed=seed):\n",
    "\n",
    "    texts = list(data.text.values)\n",
    "    documents = [TaggedDocument(doc, [i]) for i, doc in enumerate(texts)]\n",
    "    # тут будем менять параметры\n",
    "    model = Doc2Vec(documents,\n",
    "                    vector_size=vector_size, window=window,\n",
    "                    min_count=min_count, workers=4, seed=seed)\n",
    "    vectors = [list(model.dv[doc.tags][0]) for doc in documents]\n",
    "    vec_cols = ['v' + str(i) for i in range(vector_size)]\n",
    "    vec_df = pd.DataFrame(vectors, columns=vec_cols)\n",
    "\n",
    "    return data.join(vec_df, how='left')"
   ]
  },
  {
   "cell_type": "code",
   "execution_count": 36,
   "metadata": {},
   "outputs": [
    {
     "data": {
      "text/html": [
       "<div>\n",
       "<style scoped>\n",
       "    .dataframe tbody tr th:only-of-type {\n",
       "        vertical-align: middle;\n",
       "    }\n",
       "\n",
       "    .dataframe tbody tr th {\n",
       "        vertical-align: top;\n",
       "    }\n",
       "\n",
       "    .dataframe thead th {\n",
       "        text-align: right;\n",
       "    }\n",
       "</style>\n",
       "<table border=\"1\" class=\"dataframe\">\n",
       "  <thead>\n",
       "    <tr style=\"text-align: right;\">\n",
       "      <th></th>\n",
       "      <th>Year</th>\n",
       "      <th>Runtime (Minutes)</th>\n",
       "      <th>Rating</th>\n",
       "      <th>Votes</th>\n",
       "      <th>Revenue (Millions)</th>\n",
       "      <th>Metascore</th>\n",
       "      <th>text</th>\n",
       "      <th>v0</th>\n",
       "      <th>v1</th>\n",
       "      <th>v2</th>\n",
       "      <th>v3</th>\n",
       "      <th>v4</th>\n",
       "    </tr>\n",
       "  </thead>\n",
       "  <tbody>\n",
       "    <tr>\n",
       "      <th>0</th>\n",
       "      <td>2014</td>\n",
       "      <td>121</td>\n",
       "      <td>8.1</td>\n",
       "      <td>757074</td>\n",
       "      <td>333.13</td>\n",
       "      <td>76.0</td>\n",
       "      <td>[group, intergalactic, criminal, forced, work,...</td>\n",
       "      <td>-0.114046</td>\n",
       "      <td>-0.073360</td>\n",
       "      <td>0.105861</td>\n",
       "      <td>0.156401</td>\n",
       "      <td>-0.035035</td>\n",
       "    </tr>\n",
       "    <tr>\n",
       "      <th>1</th>\n",
       "      <td>2012</td>\n",
       "      <td>124</td>\n",
       "      <td>7.0</td>\n",
       "      <td>485820</td>\n",
       "      <td>126.46</td>\n",
       "      <td>65.0</td>\n",
       "      <td>[following, clue, origin, mankind, team, find,...</td>\n",
       "      <td>-0.017048</td>\n",
       "      <td>0.034024</td>\n",
       "      <td>0.079850</td>\n",
       "      <td>0.119554</td>\n",
       "      <td>0.088964</td>\n",
       "    </tr>\n",
       "    <tr>\n",
       "      <th>2</th>\n",
       "      <td>2016</td>\n",
       "      <td>117</td>\n",
       "      <td>7.3</td>\n",
       "      <td>157606</td>\n",
       "      <td>138.12</td>\n",
       "      <td>62.0</td>\n",
       "      <td>[three, girl, kidnapped, man, diagnosed, 23, d...</td>\n",
       "      <td>0.103961</td>\n",
       "      <td>0.159609</td>\n",
       "      <td>0.079953</td>\n",
       "      <td>-0.212059</td>\n",
       "      <td>-0.145194</td>\n",
       "    </tr>\n",
       "    <tr>\n",
       "      <th>3</th>\n",
       "      <td>2016</td>\n",
       "      <td>108</td>\n",
       "      <td>7.2</td>\n",
       "      <td>60545</td>\n",
       "      <td>270.32</td>\n",
       "      <td>59.0</td>\n",
       "      <td>[city, humanoid, animal, hustling, theater, im...</td>\n",
       "      <td>-0.206329</td>\n",
       "      <td>0.135011</td>\n",
       "      <td>-0.127786</td>\n",
       "      <td>-0.104821</td>\n",
       "      <td>-0.021514</td>\n",
       "    </tr>\n",
       "    <tr>\n",
       "      <th>4</th>\n",
       "      <td>2016</td>\n",
       "      <td>123</td>\n",
       "      <td>6.2</td>\n",
       "      <td>393727</td>\n",
       "      <td>325.02</td>\n",
       "      <td>40.0</td>\n",
       "      <td>[secret, government, agency, recruit, dangerou...</td>\n",
       "      <td>0.016859</td>\n",
       "      <td>-0.020678</td>\n",
       "      <td>0.172728</td>\n",
       "      <td>0.155322</td>\n",
       "      <td>0.111348</td>\n",
       "    </tr>\n",
       "  </tbody>\n",
       "</table>\n",
       "</div>"
      ],
      "text/plain": [
       "   Year  Runtime (Minutes)  Rating   Votes  Revenue (Millions)  Metascore  \\\n",
       "0  2014                121     8.1  757074              333.13       76.0   \n",
       "1  2012                124     7.0  485820              126.46       65.0   \n",
       "2  2016                117     7.3  157606              138.12       62.0   \n",
       "3  2016                108     7.2   60545              270.32       59.0   \n",
       "4  2016                123     6.2  393727              325.02       40.0   \n",
       "\n",
       "                                                text        v0        v1  \\\n",
       "0  [group, intergalactic, criminal, forced, work,... -0.114046 -0.073360   \n",
       "1  [following, clue, origin, mankind, team, find,... -0.017048  0.034024   \n",
       "2  [three, girl, kidnapped, man, diagnosed, 23, d...  0.103961  0.159609   \n",
       "3  [city, humanoid, animal, hustling, theater, im... -0.206329  0.135011   \n",
       "4  [secret, government, agency, recruit, dangerou...  0.016859 -0.020678   \n",
       "\n",
       "         v2        v3        v4  \n",
       "0  0.105861  0.156401 -0.035035  \n",
       "1  0.079850  0.119554  0.088964  \n",
       "2  0.079953 -0.212059 -0.145194  \n",
       "3 -0.127786 -0.104821 -0.021514  \n",
       "4  0.172728  0.155322  0.111348  "
      ]
     },
     "execution_count": 36,
     "metadata": {},
     "output_type": "execute_result"
    }
   ],
   "source": [
    "df = prepare_df()\n",
    "vectorized = make_vectors(df, vector_size=5, window=2, min_count=1)\n",
    "vectorized.head()"
   ]
  },
  {
   "cell_type": "code",
   "execution_count": 37,
   "metadata": {},
   "outputs": [],
   "source": [
    "def prepare_for_training(vec_df, seed=seed):\n",
    "    X = vec_df.drop(['Rating', 'text'], axis=1).values \n",
    "    y = vec_df['Rating'].values\n",
    "\n",
    "    sc = StandardScaler()\n",
    "    X_train, X_test, y_train, y_test = train_test_split(sc.fit_transform(X),\n",
    "                                                        y, random_state=seed)\n",
    "\n",
    "    return X_train, X_test, y_train, y_test"
   ]
  },
  {
   "cell_type": "code",
   "execution_count": 38,
   "metadata": {},
   "outputs": [],
   "source": [
    "X_train, X_test, y_train, y_test = prepare_for_training(vectorized)"
   ]
  },
  {
   "cell_type": "markdown",
   "metadata": {},
   "source": [
    "Попробуем гридсерч для модели с регуляризацией лассо еще раз."
   ]
  },
  {
   "cell_type": "code",
   "execution_count": 39,
   "metadata": {},
   "outputs": [
    {
     "name": "stdout",
     "output_type": "stream",
     "text": [
      "Best score: -0.4272079566826263\n",
      "Best parameters: {'alpha': 0.01, 'fit_intercept': True, 'random_state': 117, 'selection': 'cyclic'}\n"
     ]
    }
   ],
   "source": [
    "lasso_model = Lasso()\n",
    "\n",
    "lasso_params = {'alpha': [0.0001, 0.0005, 0.005, 0.01, 0.05, 0.1,\n",
    "                          0.15, 0.5, 1, 2, 10, 50, 100, 200],\n",
    "                'fit_intercept': [True, False],\n",
    "                'random_state': [seed],\n",
    "                'selection': ['cyclic', 'random']}\n",
    "\n",
    "grid_search = GridSearchCV(lasso_model,\n",
    "                           param_grid=lasso_params,\n",
    "                           scoring='neg_mean_absolute_error',\n",
    "                           n_jobs=-1)\n",
    "\n",
    "grid_search.fit(X_train, y_train)\n",
    "\n",
    "print('Best score: {}'.format(grid_search.best_score_))\n",
    "print('Best parameters: {}'.format(grid_search.best_params_))"
   ]
  },
  {
   "cell_type": "markdown",
   "metadata": {},
   "source": [
    "Заметим, что лучшим опять оказался параметр alpha=0.01."
   ]
  },
  {
   "cell_type": "code",
   "execution_count": 40,
   "metadata": {},
   "outputs": [],
   "source": [
    "def train_and_evaluate_lasso(X_train, X_test, y_train, y_test):\n",
    "    new_regressor = Lasso(alpha=0.01, fit_intercept=True,\n",
    "                          random_state=seed, selection='cyclic')\n",
    "    new_regressor.fit(X_train, y_train)\n",
    "    y_preds = new_regressor.predict(X_test)\n",
    "\n",
    "    mae = mean_absolute_error(y_test, y_preds)\n",
    "    mse = mean_squared_error(y_test, y_preds)\n",
    "    score = new_regressor.score(X_test, y_test)\n",
    "\n",
    "#     print('MAE', mae)\n",
    "#     print('MSE', mse)\n",
    "#     print('Score', score)\n",
    "\n",
    "    return mae, mse, score"
   ]
  },
  {
   "cell_type": "code",
   "execution_count": 41,
   "metadata": {},
   "outputs": [
    {
     "data": {
      "text/plain": [
       "(0.40070805498111295, 0.28455928687920407, 0.6280497877985043)"
      ]
     },
     "execution_count": 41,
     "metadata": {},
     "output_type": "execute_result"
    }
   ],
   "source": [
    "train_and_evaluate_lasso(X_train, X_test, y_train, y_test)"
   ]
  },
  {
   "cell_type": "markdown",
   "metadata": {},
   "source": [
    "Это немного помогло: MAE/MSE чуть-чуть уменьшились, а score вырос с 0.624 до 0.628 (конечно, это мелочи). Попробуем теперь поэкспериметировать с параметрами Doc2Vec."
   ]
  },
  {
   "cell_type": "code",
   "execution_count": 42,
   "metadata": {},
   "outputs": [],
   "source": [
    "def optimize_vector_params(vec_sizes=[3, 4, 5, 7, 10],\n",
    "                           windows=[1, 2, 3, 4, 5],\n",
    "                           min_freqs=[1, 2, 3, 4, 5],\n",
    "                           lemmatize=True):\n",
    "\n",
    "    best_size, best_window, best_freq, best_score = 0, 0, 0, 0\n",
    "    best_mae, best_mse = 10000, 10000\n",
    "\n",
    "    for vec_size in tqdm(vec_sizes):\n",
    "        for window in windows:\n",
    "            for min_freq in min_freqs:\n",
    "                # print('Testing vec_size {}, window {}, min_freq {}...'.format(vec_size, window, min_freq))\n",
    "                X_train, X_test, y_train, y_test = prepare_for_training(\n",
    "                    make_vectors(prepare_df(lemmatize=lemmatize), vec_size, window, min_freq))\n",
    "                mae, mse, score = train_and_evaluate_lasso(\n",
    "                    X_train, X_test, y_train, y_test)\n",
    "                if mae < best_mae:\n",
    "                    best_mae = round(mae, 3)\n",
    "                    best_mse = round(mse, 3)\n",
    "                    best_score = round(score, 3)\n",
    "                    best_size = vec_size\n",
    "                    best_window = window\n",
    "                    best_freq = min_freq\n",
    "                # print()\n",
    "\n",
    "    return best_mae, best_mse, best_score, best_size, best_window, best_freq"
   ]
  },
  {
   "cell_type": "code",
   "execution_count": 43,
   "metadata": {},
   "outputs": [
    {
     "data": {
      "application/vnd.jupyter.widget-view+json": {
       "model_id": "fb7646628bdf451bb5453b7e410bdc96",
       "version_major": 2,
       "version_minor": 0
      },
      "text/plain": [
       "  0%|          | 0/5 [00:00<?, ?it/s]"
      ]
     },
     "metadata": {},
     "output_type": "display_data"
    },
    {
     "name": "stdout",
     "output_type": "stream",
     "text": [
      "Best results: MAE 0.399, MSE 0.287, score 0.624 with vector size 4, window 1 and min frequency 1.\n"
     ]
    }
   ],
   "source": [
    "best_mae, best_mse, best_score, best_size, best_window, best_freq = optimize_vector_params()\n",
    "print('Best results: MAE {}, MSE {}, score {} with vector size {}, window {} and min frequency {}.'.format(\n",
    "    best_mae, best_mse, best_score, best_size, best_window, best_freq))"
   ]
  },
  {
   "cell_type": "markdown",
   "metadata": {},
   "source": [
    "Грустно, что это не сработало :( Что, если отбросить идею с лемматизацией и вернуться предобработке с простой токенизацией, но повторить эксперимент с векторами?"
   ]
  },
  {
   "cell_type": "code",
   "execution_count": 44,
   "metadata": {},
   "outputs": [
    {
     "data": {
      "application/vnd.jupyter.widget-view+json": {
       "model_id": "ead349d672de4708b2e83d69180efce5",
       "version_major": 2,
       "version_minor": 0
      },
      "text/plain": [
       "  0%|          | 0/5 [00:00<?, ?it/s]"
      ]
     },
     "metadata": {},
     "output_type": "display_data"
    },
    {
     "name": "stdout",
     "output_type": "stream",
     "text": [
      "Best results: MAE 0.398, MSE 0.286, score 0.626 with vector size 4, window 4 and min frequency 5.\n"
     ]
    }
   ],
   "source": [
    "best_mae, best_mse, best_score, best_size, best_window, best_freq = optimize_vector_params(lemmatize=False)\n",
    "print('Best results: MAE {}, MSE {}, score {} with vector size {}, window {} and min frequency {}.'.format(\n",
    "    best_mae, best_mse, best_score, best_size, best_window, best_freq))"
   ]
  },
  {
   "cell_type": "markdown",
   "metadata": {},
   "source": [
    "Примерно то же самое, но хотя бы не хуже... Можно еще поменять векторизацию на Count/TfidfVectorizer или поиграться с параметром alpha у Doc2Vec, но уже поздно и я хочу спать :("
   ]
  }
 ],
 "metadata": {
  "kernelspec": {
   "display_name": "Python 3 (ipykernel)",
   "language": "python",
   "name": "python3"
  },
  "language_info": {
   "codemirror_mode": {
    "name": "ipython",
    "version": 3
   },
   "file_extension": ".py",
   "mimetype": "text/x-python",
   "name": "python",
   "nbconvert_exporter": "python",
   "pygments_lexer": "ipython3",
   "version": "3.9.13"
  }
 },
 "nbformat": 4,
 "nbformat_minor": 4
}
