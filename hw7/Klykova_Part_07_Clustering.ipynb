{
 "cells": [
  {
   "cell_type": "markdown",
   "metadata": {
    "tags": []
   },
   "source": [
    "# Д/З по лекции 7: кластеризация\n",
    "## Выполнила Елизавета Клыкова, МКЛ-221"
   ]
  },
  {
   "cell_type": "markdown",
   "metadata": {},
   "source": [
    "Датасет [отсюда](https://www.kaggle.com/datasets/zynicide/wine-reviews)\n",
    "\n",
    "Что делать:\n",
    "* Подготовьте данные: в датасете 10 колонок, некоторые из них текстовые. Можно использовать колонки, которые на Ваш взгляд наиболее информативны: можно  использовать все, можно убрать некоторые.\n",
    "    * Если вы используете текстовые колонки, их содержимое следует векторизовать (Doc2Vec, TF-IDF vectorizer, Bert embeddings -- любое на ваш выбор)\n",
    "    * Для некоторых алгоритмов кластеризации лучше предварительно сделать уменьшение размерности датасета (например,  для K-means)\n",
    "* Выберите любые 2 алгоритма кластеризации\n",
    "* Проверьте кластеры с помощью метрик: inertia, silhouette score \n",
    "* Расскажите о результатах \n",
    "* Визуализации принесут дополнительные 2 балла за дз (да, если вы сделаете все супер-классно, можно получить и больше 10), но добавляются по желанию"
   ]
  },
  {
   "cell_type": "markdown",
   "metadata": {},
   "source": [
    "## Анализ данных"
   ]
  },
  {
   "cell_type": "code",
   "execution_count": 1,
   "metadata": {},
   "outputs": [],
   "source": [
    "import random\n",
    "import pandas as pd\n",
    "import numpy as np\n",
    "\n",
    "import seaborn as sns\n",
    "import matplotlib.pyplot as plt\n",
    "from tqdm import tqdm\n",
    "\n",
    "from gensim.models.doc2vec import Doc2Vec, TaggedDocument\n",
    "\n",
    "import sklearn\n",
    "from sklearn.preprocessing import StandardScaler, LabelEncoder\n",
    "from sklearn.decomposition import PCA\n",
    "from sklearn.cluster import KMeans\n",
    "from sklearn.metrics import silhouette_score\n",
    "from sklearn.cluster import DBSCAN, MeanShift\n",
    "from sklearn import metrics\n",
    "from sklearn.datasets import make_blobs\n",
    "\n",
    "RANDOM_SEED = 42\n",
    "random.seed(RANDOM_SEED)\n",
    "np.random.seed(RANDOM_SEED)"
   ]
  },
  {
   "cell_type": "code",
   "execution_count": 2,
   "metadata": {},
   "outputs": [
    {
     "data": {
      "text/plain": [
       "(129971, 13)"
      ]
     },
     "execution_count": 2,
     "metadata": {},
     "output_type": "execute_result"
    }
   ],
   "source": [
    "data = pd.read_csv('winemag-data-130k-v2.csv')\n",
    "data.drop(columns=['Unnamed: 0'], inplace=True)\n",
    "data.shape"
   ]
  },
  {
   "cell_type": "code",
   "execution_count": 3,
   "metadata": {},
   "outputs": [
    {
     "data": {
      "text/html": [
       "<div>\n",
       "<style scoped>\n",
       "    .dataframe tbody tr th:only-of-type {\n",
       "        vertical-align: middle;\n",
       "    }\n",
       "\n",
       "    .dataframe tbody tr th {\n",
       "        vertical-align: top;\n",
       "    }\n",
       "\n",
       "    .dataframe thead th {\n",
       "        text-align: right;\n",
       "    }\n",
       "</style>\n",
       "<table border=\"1\" class=\"dataframe\">\n",
       "  <thead>\n",
       "    <tr style=\"text-align: right;\">\n",
       "      <th></th>\n",
       "      <th>country</th>\n",
       "      <th>description</th>\n",
       "      <th>designation</th>\n",
       "      <th>points</th>\n",
       "      <th>price</th>\n",
       "      <th>province</th>\n",
       "      <th>region_1</th>\n",
       "      <th>region_2</th>\n",
       "      <th>taster_name</th>\n",
       "      <th>taster_twitter_handle</th>\n",
       "      <th>title</th>\n",
       "      <th>variety</th>\n",
       "      <th>winery</th>\n",
       "    </tr>\n",
       "  </thead>\n",
       "  <tbody>\n",
       "    <tr>\n",
       "      <th>0</th>\n",
       "      <td>Italy</td>\n",
       "      <td>Aromas include tropical fruit, broom, brimston...</td>\n",
       "      <td>Vulkà Bianco</td>\n",
       "      <td>87</td>\n",
       "      <td>NaN</td>\n",
       "      <td>Sicily &amp; Sardinia</td>\n",
       "      <td>Etna</td>\n",
       "      <td>NaN</td>\n",
       "      <td>Kerin O’Keefe</td>\n",
       "      <td>@kerinokeefe</td>\n",
       "      <td>Nicosia 2013 Vulkà Bianco  (Etna)</td>\n",
       "      <td>White Blend</td>\n",
       "      <td>Nicosia</td>\n",
       "    </tr>\n",
       "    <tr>\n",
       "      <th>1</th>\n",
       "      <td>Portugal</td>\n",
       "      <td>This is ripe and fruity, a wine that is smooth...</td>\n",
       "      <td>Avidagos</td>\n",
       "      <td>87</td>\n",
       "      <td>15.0</td>\n",
       "      <td>Douro</td>\n",
       "      <td>NaN</td>\n",
       "      <td>NaN</td>\n",
       "      <td>Roger Voss</td>\n",
       "      <td>@vossroger</td>\n",
       "      <td>Quinta dos Avidagos 2011 Avidagos Red (Douro)</td>\n",
       "      <td>Portuguese Red</td>\n",
       "      <td>Quinta dos Avidagos</td>\n",
       "    </tr>\n",
       "    <tr>\n",
       "      <th>2</th>\n",
       "      <td>US</td>\n",
       "      <td>Tart and snappy, the flavors of lime flesh and...</td>\n",
       "      <td>NaN</td>\n",
       "      <td>87</td>\n",
       "      <td>14.0</td>\n",
       "      <td>Oregon</td>\n",
       "      <td>Willamette Valley</td>\n",
       "      <td>Willamette Valley</td>\n",
       "      <td>Paul Gregutt</td>\n",
       "      <td>@paulgwine</td>\n",
       "      <td>Rainstorm 2013 Pinot Gris (Willamette Valley)</td>\n",
       "      <td>Pinot Gris</td>\n",
       "      <td>Rainstorm</td>\n",
       "    </tr>\n",
       "  </tbody>\n",
       "</table>\n",
       "</div>"
      ],
      "text/plain": [
       "    country                                        description   designation  \\\n",
       "0     Italy  Aromas include tropical fruit, broom, brimston...  Vulkà Bianco   \n",
       "1  Portugal  This is ripe and fruity, a wine that is smooth...      Avidagos   \n",
       "2        US  Tart and snappy, the flavors of lime flesh and...           NaN   \n",
       "\n",
       "   points  price           province           region_1           region_2  \\\n",
       "0      87    NaN  Sicily & Sardinia               Etna                NaN   \n",
       "1      87   15.0              Douro                NaN                NaN   \n",
       "2      87   14.0             Oregon  Willamette Valley  Willamette Valley   \n",
       "\n",
       "     taster_name taster_twitter_handle  \\\n",
       "0  Kerin O’Keefe          @kerinokeefe   \n",
       "1     Roger Voss            @vossroger   \n",
       "2   Paul Gregutt           @paulgwine    \n",
       "\n",
       "                                           title         variety  \\\n",
       "0              Nicosia 2013 Vulkà Bianco  (Etna)     White Blend   \n",
       "1  Quinta dos Avidagos 2011 Avidagos Red (Douro)  Portuguese Red   \n",
       "2  Rainstorm 2013 Pinot Gris (Willamette Valley)      Pinot Gris   \n",
       "\n",
       "                winery  \n",
       "0              Nicosia  \n",
       "1  Quinta dos Avidagos  \n",
       "2            Rainstorm  "
      ]
     },
     "execution_count": 3,
     "metadata": {},
     "output_type": "execute_result"
    }
   ],
   "source": [
    "data.head(3)"
   ]
  },
  {
   "cell_type": "code",
   "execution_count": 4,
   "metadata": {
    "scrolled": true,
    "tags": []
   },
   "outputs": [
    {
     "name": "stdout",
     "output_type": "stream",
     "text": [
      "<class 'pandas.core.frame.DataFrame'>\n",
      "RangeIndex: 129971 entries, 0 to 129970\n",
      "Data columns (total 13 columns):\n",
      " #   Column                 Non-Null Count   Dtype  \n",
      "---  ------                 --------------   -----  \n",
      " 0   country                129908 non-null  object \n",
      " 1   description            129971 non-null  object \n",
      " 2   designation            92506 non-null   object \n",
      " 3   points                 129971 non-null  int64  \n",
      " 4   price                  120975 non-null  float64\n",
      " 5   province               129908 non-null  object \n",
      " 6   region_1               108724 non-null  object \n",
      " 7   region_2               50511 non-null   object \n",
      " 8   taster_name            103727 non-null  object \n",
      " 9   taster_twitter_handle  98758 non-null   object \n",
      " 10  title                  129971 non-null  object \n",
      " 11  variety                129970 non-null  object \n",
      " 12  winery                 129971 non-null  object \n",
      "dtypes: float64(1), int64(1), object(11)\n",
      "memory usage: 12.9+ MB\n"
     ]
    }
   ],
   "source": [
    "data.info()"
   ]
  },
  {
   "cell_type": "markdown",
   "metadata": {},
   "source": [
    "120 тыс. примеров будут кластеризоваться очень долго, поэтому выбросим все строки, где есть нулевые значения."
   ]
  },
  {
   "cell_type": "code",
   "execution_count": 5,
   "metadata": {},
   "outputs": [
    {
     "data": {
      "text/plain": [
       "(22387, 13)"
      ]
     },
     "execution_count": 5,
     "metadata": {},
     "output_type": "execute_result"
    }
   ],
   "source": [
    "data.dropna(inplace=True)\n",
    "data.shape"
   ]
  },
  {
   "cell_type": "code",
   "execution_count": 6,
   "metadata": {},
   "outputs": [
    {
     "data": {
      "text/plain": [
       "country                      1\n",
       "description              20491\n",
       "designation               9515\n",
       "points                      21\n",
       "price                      146\n",
       "province                     4\n",
       "region_1                   171\n",
       "region_2                    17\n",
       "taster_name                 11\n",
       "taster_twitter_handle       11\n",
       "title                    20425\n",
       "variety                    183\n",
       "winery                    2791\n",
       "dtype: int64"
      ]
     },
     "execution_count": 6,
     "metadata": {},
     "output_type": "execute_result"
    }
   ],
   "source": [
    "data.nunique()"
   ]
  },
  {
   "cell_type": "markdown",
   "metadata": {},
   "source": [
    "## Подготовка данных\n",
    "Будем сохранять нужные нам данные в отдельный датафрейм."
   ]
  },
  {
   "cell_type": "markdown",
   "metadata": {},
   "source": [
    "### Текстовые данные: векторизация Doc2Vec"
   ]
  },
  {
   "cell_type": "code",
   "execution_count": 7,
   "metadata": {},
   "outputs": [],
   "source": [
    "descs = data['description'].tolist()\n",
    "descs = [desc.lower().split() for desc in descs]\n",
    "tagges_docs = [TaggedDocument(doc, [i]) for i, doc in enumerate(descs)]"
   ]
  },
  {
   "cell_type": "code",
   "execution_count": 8,
   "metadata": {},
   "outputs": [],
   "source": [
    "model = Doc2Vec(tagges_docs, vector_size=5, window=2,\n",
    "                min_count=2, workers=4, seed=RANDOM_SEED)"
   ]
  },
  {
   "cell_type": "code",
   "execution_count": 9,
   "metadata": {},
   "outputs": [],
   "source": [
    "# создадим список с векторами для каждого текста\n",
    "vectors = []\n",
    "for x in tagges_docs:\n",
    "    vec = list(model.dv[x.tags][0])\n",
    "    vectors.append(vec)"
   ]
  },
  {
   "cell_type": "code",
   "execution_count": 10,
   "metadata": {},
   "outputs": [
    {
     "data": {
      "text/html": [
       "<div>\n",
       "<style scoped>\n",
       "    .dataframe tbody tr th:only-of-type {\n",
       "        vertical-align: middle;\n",
       "    }\n",
       "\n",
       "    .dataframe tbody tr th {\n",
       "        vertical-align: top;\n",
       "    }\n",
       "\n",
       "    .dataframe thead th {\n",
       "        text-align: right;\n",
       "    }\n",
       "</style>\n",
       "<table border=\"1\" class=\"dataframe\">\n",
       "  <thead>\n",
       "    <tr style=\"text-align: right;\">\n",
       "      <th></th>\n",
       "      <th>v1</th>\n",
       "      <th>v2</th>\n",
       "      <th>v3</th>\n",
       "      <th>v4</th>\n",
       "      <th>v5</th>\n",
       "    </tr>\n",
       "  </thead>\n",
       "  <tbody>\n",
       "    <tr>\n",
       "      <th>0</th>\n",
       "      <td>0.070395</td>\n",
       "      <td>-0.345443</td>\n",
       "      <td>-0.009697</td>\n",
       "      <td>-0.013358</td>\n",
       "      <td>0.374676</td>\n",
       "    </tr>\n",
       "    <tr>\n",
       "      <th>1</th>\n",
       "      <td>-0.079373</td>\n",
       "      <td>-0.132506</td>\n",
       "      <td>-0.149825</td>\n",
       "      <td>-0.116562</td>\n",
       "      <td>0.117183</td>\n",
       "    </tr>\n",
       "    <tr>\n",
       "      <th>2</th>\n",
       "      <td>0.227323</td>\n",
       "      <td>0.187854</td>\n",
       "      <td>-0.119900</td>\n",
       "      <td>-0.199117</td>\n",
       "      <td>0.320661</td>\n",
       "    </tr>\n",
       "    <tr>\n",
       "      <th>3</th>\n",
       "      <td>0.110968</td>\n",
       "      <td>-0.225876</td>\n",
       "      <td>-0.024458</td>\n",
       "      <td>0.113977</td>\n",
       "      <td>0.167287</td>\n",
       "    </tr>\n",
       "    <tr>\n",
       "      <th>4</th>\n",
       "      <td>0.194910</td>\n",
       "      <td>-0.215580</td>\n",
       "      <td>-0.139762</td>\n",
       "      <td>-0.349235</td>\n",
       "      <td>0.377757</td>\n",
       "    </tr>\n",
       "    <tr>\n",
       "      <th>...</th>\n",
       "      <td>...</td>\n",
       "      <td>...</td>\n",
       "      <td>...</td>\n",
       "      <td>...</td>\n",
       "      <td>...</td>\n",
       "    </tr>\n",
       "    <tr>\n",
       "      <th>22382</th>\n",
       "      <td>0.035791</td>\n",
       "      <td>-0.301161</td>\n",
       "      <td>-0.291375</td>\n",
       "      <td>0.005304</td>\n",
       "      <td>0.220058</td>\n",
       "    </tr>\n",
       "    <tr>\n",
       "      <th>22383</th>\n",
       "      <td>0.325223</td>\n",
       "      <td>-0.191999</td>\n",
       "      <td>0.435682</td>\n",
       "      <td>-0.046554</td>\n",
       "      <td>0.392630</td>\n",
       "    </tr>\n",
       "    <tr>\n",
       "      <th>22384</th>\n",
       "      <td>0.223184</td>\n",
       "      <td>-0.200819</td>\n",
       "      <td>-0.571375</td>\n",
       "      <td>-0.169098</td>\n",
       "      <td>0.501167</td>\n",
       "    </tr>\n",
       "    <tr>\n",
       "      <th>22385</th>\n",
       "      <td>-0.067566</td>\n",
       "      <td>-0.343669</td>\n",
       "      <td>-0.214317</td>\n",
       "      <td>-0.575012</td>\n",
       "      <td>0.321713</td>\n",
       "    </tr>\n",
       "    <tr>\n",
       "      <th>22386</th>\n",
       "      <td>0.344411</td>\n",
       "      <td>-0.096792</td>\n",
       "      <td>0.088709</td>\n",
       "      <td>-0.039381</td>\n",
       "      <td>0.316681</td>\n",
       "    </tr>\n",
       "  </tbody>\n",
       "</table>\n",
       "<p>22387 rows × 5 columns</p>\n",
       "</div>"
      ],
      "text/plain": [
       "             v1        v2        v3        v4        v5\n",
       "0      0.070395 -0.345443 -0.009697 -0.013358  0.374676\n",
       "1     -0.079373 -0.132506 -0.149825 -0.116562  0.117183\n",
       "2      0.227323  0.187854 -0.119900 -0.199117  0.320661\n",
       "3      0.110968 -0.225876 -0.024458  0.113977  0.167287\n",
       "4      0.194910 -0.215580 -0.139762 -0.349235  0.377757\n",
       "...         ...       ...       ...       ...       ...\n",
       "22382  0.035791 -0.301161 -0.291375  0.005304  0.220058\n",
       "22383  0.325223 -0.191999  0.435682 -0.046554  0.392630\n",
       "22384  0.223184 -0.200819 -0.571375 -0.169098  0.501167\n",
       "22385 -0.067566 -0.343669 -0.214317 -0.575012  0.321713\n",
       "22386  0.344411 -0.096792  0.088709 -0.039381  0.316681\n",
       "\n",
       "[22387 rows x 5 columns]"
      ]
     },
     "execution_count": 10,
     "metadata": {},
     "output_type": "execute_result"
    }
   ],
   "source": [
    "# датафрейм, где векторы распределены по столбцам\n",
    "vec_df = pd.DataFrame(vectors, columns=['v1', 'v2', 'v3', 'v4', 'v5'])\n",
    "vec_df"
   ]
  },
  {
   "cell_type": "markdown",
   "metadata": {},
   "source": [
    "Сделаем то же самое для колонки title."
   ]
  },
  {
   "cell_type": "code",
   "execution_count": 11,
   "metadata": {},
   "outputs": [],
   "source": [
    "titles = data['title'].tolist()\n",
    "titles = [title.lower().split() for title in titles]\n",
    "tagged_titles = [TaggedDocument(doc, [i]) for i, doc in enumerate(titles)]"
   ]
  },
  {
   "cell_type": "code",
   "execution_count": 12,
   "metadata": {},
   "outputs": [],
   "source": [
    "t_model = Doc2Vec(tagged_titles, vector_size=3, window=2,\n",
    "                  min_count=2, workers=4, seed=RANDOM_SEED)"
   ]
  },
  {
   "cell_type": "code",
   "execution_count": 13,
   "metadata": {},
   "outputs": [],
   "source": [
    "vec_titles = [list(t_model.dv[x.tags][0]) for x in tagged_titles]\n",
    "temp_df = pd.DataFrame(vec_titles, columns=['w1', 'w2', 'w3'])\n",
    "vec_df = vec_df.join(temp_df, how='left')"
   ]
  },
  {
   "cell_type": "code",
   "execution_count": 14,
   "metadata": {},
   "outputs": [
    {
     "data": {
      "text/html": [
       "<div>\n",
       "<style scoped>\n",
       "    .dataframe tbody tr th:only-of-type {\n",
       "        vertical-align: middle;\n",
       "    }\n",
       "\n",
       "    .dataframe tbody tr th {\n",
       "        vertical-align: top;\n",
       "    }\n",
       "\n",
       "    .dataframe thead th {\n",
       "        text-align: right;\n",
       "    }\n",
       "</style>\n",
       "<table border=\"1\" class=\"dataframe\">\n",
       "  <thead>\n",
       "    <tr style=\"text-align: right;\">\n",
       "      <th></th>\n",
       "      <th>v1</th>\n",
       "      <th>v2</th>\n",
       "      <th>v3</th>\n",
       "      <th>v4</th>\n",
       "      <th>v5</th>\n",
       "      <th>w1</th>\n",
       "      <th>w2</th>\n",
       "      <th>w3</th>\n",
       "    </tr>\n",
       "  </thead>\n",
       "  <tbody>\n",
       "    <tr>\n",
       "      <th>0</th>\n",
       "      <td>0.070395</td>\n",
       "      <td>-0.345443</td>\n",
       "      <td>-0.009697</td>\n",
       "      <td>-0.013358</td>\n",
       "      <td>0.374676</td>\n",
       "      <td>0.270021</td>\n",
       "      <td>0.500957</td>\n",
       "      <td>0.303837</td>\n",
       "    </tr>\n",
       "    <tr>\n",
       "      <th>1</th>\n",
       "      <td>-0.079373</td>\n",
       "      <td>-0.132506</td>\n",
       "      <td>-0.149825</td>\n",
       "      <td>-0.116562</td>\n",
       "      <td>0.117183</td>\n",
       "      <td>-0.117554</td>\n",
       "      <td>-0.226639</td>\n",
       "      <td>-0.090644</td>\n",
       "    </tr>\n",
       "    <tr>\n",
       "      <th>2</th>\n",
       "      <td>0.227323</td>\n",
       "      <td>0.187854</td>\n",
       "      <td>-0.119900</td>\n",
       "      <td>-0.199117</td>\n",
       "      <td>0.320661</td>\n",
       "      <td>-0.018859</td>\n",
       "      <td>0.086458</td>\n",
       "      <td>-0.184124</td>\n",
       "    </tr>\n",
       "    <tr>\n",
       "      <th>3</th>\n",
       "      <td>0.110968</td>\n",
       "      <td>-0.225876</td>\n",
       "      <td>-0.024458</td>\n",
       "      <td>0.113977</td>\n",
       "      <td>0.167287</td>\n",
       "      <td>-0.321348</td>\n",
       "      <td>-0.096149</td>\n",
       "      <td>0.385743</td>\n",
       "    </tr>\n",
       "    <tr>\n",
       "      <th>4</th>\n",
       "      <td>0.194910</td>\n",
       "      <td>-0.215580</td>\n",
       "      <td>-0.139762</td>\n",
       "      <td>-0.349235</td>\n",
       "      <td>0.377757</td>\n",
       "      <td>-0.127544</td>\n",
       "      <td>0.137184</td>\n",
       "      <td>0.335661</td>\n",
       "    </tr>\n",
       "    <tr>\n",
       "      <th>...</th>\n",
       "      <td>...</td>\n",
       "      <td>...</td>\n",
       "      <td>...</td>\n",
       "      <td>...</td>\n",
       "      <td>...</td>\n",
       "      <td>...</td>\n",
       "      <td>...</td>\n",
       "      <td>...</td>\n",
       "    </tr>\n",
       "    <tr>\n",
       "      <th>22382</th>\n",
       "      <td>0.035791</td>\n",
       "      <td>-0.301161</td>\n",
       "      <td>-0.291375</td>\n",
       "      <td>0.005304</td>\n",
       "      <td>0.220058</td>\n",
       "      <td>0.222962</td>\n",
       "      <td>0.118710</td>\n",
       "      <td>-0.018580</td>\n",
       "    </tr>\n",
       "    <tr>\n",
       "      <th>22383</th>\n",
       "      <td>0.325223</td>\n",
       "      <td>-0.191999</td>\n",
       "      <td>0.435682</td>\n",
       "      <td>-0.046554</td>\n",
       "      <td>0.392630</td>\n",
       "      <td>-0.151291</td>\n",
       "      <td>0.159641</td>\n",
       "      <td>-0.158107</td>\n",
       "    </tr>\n",
       "    <tr>\n",
       "      <th>22384</th>\n",
       "      <td>0.223184</td>\n",
       "      <td>-0.200819</td>\n",
       "      <td>-0.571375</td>\n",
       "      <td>-0.169098</td>\n",
       "      <td>0.501167</td>\n",
       "      <td>0.159763</td>\n",
       "      <td>0.208795</td>\n",
       "      <td>0.190815</td>\n",
       "    </tr>\n",
       "    <tr>\n",
       "      <th>22385</th>\n",
       "      <td>-0.067566</td>\n",
       "      <td>-0.343669</td>\n",
       "      <td>-0.214317</td>\n",
       "      <td>-0.575012</td>\n",
       "      <td>0.321713</td>\n",
       "      <td>0.023334</td>\n",
       "      <td>0.400792</td>\n",
       "      <td>0.092124</td>\n",
       "    </tr>\n",
       "    <tr>\n",
       "      <th>22386</th>\n",
       "      <td>0.344411</td>\n",
       "      <td>-0.096792</td>\n",
       "      <td>0.088709</td>\n",
       "      <td>-0.039381</td>\n",
       "      <td>0.316681</td>\n",
       "      <td>0.058641</td>\n",
       "      <td>0.422600</td>\n",
       "      <td>0.013903</td>\n",
       "    </tr>\n",
       "  </tbody>\n",
       "</table>\n",
       "<p>22387 rows × 8 columns</p>\n",
       "</div>"
      ],
      "text/plain": [
       "             v1        v2        v3        v4        v5        w1        w2  \\\n",
       "0      0.070395 -0.345443 -0.009697 -0.013358  0.374676  0.270021  0.500957   \n",
       "1     -0.079373 -0.132506 -0.149825 -0.116562  0.117183 -0.117554 -0.226639   \n",
       "2      0.227323  0.187854 -0.119900 -0.199117  0.320661 -0.018859  0.086458   \n",
       "3      0.110968 -0.225876 -0.024458  0.113977  0.167287 -0.321348 -0.096149   \n",
       "4      0.194910 -0.215580 -0.139762 -0.349235  0.377757 -0.127544  0.137184   \n",
       "...         ...       ...       ...       ...       ...       ...       ...   \n",
       "22382  0.035791 -0.301161 -0.291375  0.005304  0.220058  0.222962  0.118710   \n",
       "22383  0.325223 -0.191999  0.435682 -0.046554  0.392630 -0.151291  0.159641   \n",
       "22384  0.223184 -0.200819 -0.571375 -0.169098  0.501167  0.159763  0.208795   \n",
       "22385 -0.067566 -0.343669 -0.214317 -0.575012  0.321713  0.023334  0.400792   \n",
       "22386  0.344411 -0.096792  0.088709 -0.039381  0.316681  0.058641  0.422600   \n",
       "\n",
       "             w3  \n",
       "0      0.303837  \n",
       "1     -0.090644  \n",
       "2     -0.184124  \n",
       "3      0.385743  \n",
       "4      0.335661  \n",
       "...         ...  \n",
       "22382 -0.018580  \n",
       "22383 -0.158107  \n",
       "22384  0.190815  \n",
       "22385  0.092124  \n",
       "22386  0.013903  \n",
       "\n",
       "[22387 rows x 8 columns]"
      ]
     },
     "execution_count": 14,
     "metadata": {},
     "output_type": "execute_result"
    }
   ],
   "source": [
    "vec_df"
   ]
  },
  {
   "cell_type": "markdown",
   "metadata": {},
   "source": [
    "### Текстовые данные: категориальные колонки\n",
    "В некоторых колонках осталось не так уж много уникальных значений. Превратим эти колонки в категориальные."
   ]
  },
  {
   "cell_type": "code",
   "execution_count": 15,
   "metadata": {},
   "outputs": [
    {
     "name": "stdout",
     "output_type": "stream",
     "text": [
      "['California', 'New York', 'Oregon', 'Washington']\n"
     ]
    }
   ],
   "source": [
    "provinces = data['province'].tolist()\n",
    "prov_enc = LabelEncoder()\n",
    "prov_enc.fit(provinces)\n",
    "print(list(prov_enc.classes_))"
   ]
  },
  {
   "cell_type": "code",
   "execution_count": 16,
   "metadata": {},
   "outputs": [
    {
     "data": {
      "text/html": [
       "<div>\n",
       "<style scoped>\n",
       "    .dataframe tbody tr th:only-of-type {\n",
       "        vertical-align: middle;\n",
       "    }\n",
       "\n",
       "    .dataframe tbody tr th {\n",
       "        vertical-align: top;\n",
       "    }\n",
       "\n",
       "    .dataframe thead th {\n",
       "        text-align: right;\n",
       "    }\n",
       "</style>\n",
       "<table border=\"1\" class=\"dataframe\">\n",
       "  <thead>\n",
       "    <tr style=\"text-align: right;\">\n",
       "      <th></th>\n",
       "      <th>v1</th>\n",
       "      <th>v2</th>\n",
       "      <th>v3</th>\n",
       "      <th>v4</th>\n",
       "      <th>v5</th>\n",
       "      <th>w1</th>\n",
       "      <th>w2</th>\n",
       "      <th>w3</th>\n",
       "      <th>province</th>\n",
       "    </tr>\n",
       "  </thead>\n",
       "  <tbody>\n",
       "    <tr>\n",
       "      <th>0</th>\n",
       "      <td>0.070395</td>\n",
       "      <td>-0.345443</td>\n",
       "      <td>-0.009697</td>\n",
       "      <td>-0.013358</td>\n",
       "      <td>0.374676</td>\n",
       "      <td>0.270021</td>\n",
       "      <td>0.500957</td>\n",
       "      <td>0.303837</td>\n",
       "      <td>2</td>\n",
       "    </tr>\n",
       "    <tr>\n",
       "      <th>1</th>\n",
       "      <td>-0.079373</td>\n",
       "      <td>-0.132506</td>\n",
       "      <td>-0.149825</td>\n",
       "      <td>-0.116562</td>\n",
       "      <td>0.117183</td>\n",
       "      <td>-0.117554</td>\n",
       "      <td>-0.226639</td>\n",
       "      <td>-0.090644</td>\n",
       "      <td>0</td>\n",
       "    </tr>\n",
       "    <tr>\n",
       "      <th>2</th>\n",
       "      <td>0.227323</td>\n",
       "      <td>0.187854</td>\n",
       "      <td>-0.119900</td>\n",
       "      <td>-0.199117</td>\n",
       "      <td>0.320661</td>\n",
       "      <td>-0.018859</td>\n",
       "      <td>0.086458</td>\n",
       "      <td>-0.184124</td>\n",
       "      <td>0</td>\n",
       "    </tr>\n",
       "    <tr>\n",
       "      <th>3</th>\n",
       "      <td>0.110968</td>\n",
       "      <td>-0.225876</td>\n",
       "      <td>-0.024458</td>\n",
       "      <td>0.113977</td>\n",
       "      <td>0.167287</td>\n",
       "      <td>-0.321348</td>\n",
       "      <td>-0.096149</td>\n",
       "      <td>0.385743</td>\n",
       "      <td>0</td>\n",
       "    </tr>\n",
       "    <tr>\n",
       "      <th>4</th>\n",
       "      <td>0.194910</td>\n",
       "      <td>-0.215580</td>\n",
       "      <td>-0.139762</td>\n",
       "      <td>-0.349235</td>\n",
       "      <td>0.377757</td>\n",
       "      <td>-0.127544</td>\n",
       "      <td>0.137184</td>\n",
       "      <td>0.335661</td>\n",
       "      <td>2</td>\n",
       "    </tr>\n",
       "  </tbody>\n",
       "</table>\n",
       "</div>"
      ],
      "text/plain": [
       "         v1        v2        v3        v4        v5        w1        w2  \\\n",
       "0  0.070395 -0.345443 -0.009697 -0.013358  0.374676  0.270021  0.500957   \n",
       "1 -0.079373 -0.132506 -0.149825 -0.116562  0.117183 -0.117554 -0.226639   \n",
       "2  0.227323  0.187854 -0.119900 -0.199117  0.320661 -0.018859  0.086458   \n",
       "3  0.110968 -0.225876 -0.024458  0.113977  0.167287 -0.321348 -0.096149   \n",
       "4  0.194910 -0.215580 -0.139762 -0.349235  0.377757 -0.127544  0.137184   \n",
       "\n",
       "         w3  province  \n",
       "0  0.303837         2  \n",
       "1 -0.090644         0  \n",
       "2 -0.184124         0  \n",
       "3  0.385743         0  \n",
       "4  0.335661         2  "
      ]
     },
     "execution_count": 16,
     "metadata": {},
     "output_type": "execute_result"
    }
   ],
   "source": [
    "vec_df['province'] = prov_enc.transform(provinces)\n",
    "vec_df.head()"
   ]
  },
  {
   "cell_type": "code",
   "execution_count": 17,
   "metadata": {},
   "outputs": [],
   "source": [
    "regions_1 = data['region_1'].tolist()\n",
    "regions_2 = data['region_2'].tolist()\n",
    "reg_enc = LabelEncoder()\n",
    "reg_enc.fit(regions_1 + regions_2)\n",
    "vec_df['region_1'] = reg_enc.transform(regions_1)\n",
    "vec_df['region_2'] = reg_enc.transform(regions_2)"
   ]
  },
  {
   "cell_type": "code",
   "execution_count": 18,
   "metadata": {},
   "outputs": [],
   "source": [
    "wine_types = data['variety'].tolist()\n",
    "wine_enc = LabelEncoder()\n",
    "wine_enc.fit(wine_types)\n",
    "vec_df['variety'] = wine_enc.transform(wine_types)"
   ]
  },
  {
   "cell_type": "code",
   "execution_count": 19,
   "metadata": {},
   "outputs": [
    {
     "data": {
      "text/html": [
       "<div>\n",
       "<style scoped>\n",
       "    .dataframe tbody tr th:only-of-type {\n",
       "        vertical-align: middle;\n",
       "    }\n",
       "\n",
       "    .dataframe tbody tr th {\n",
       "        vertical-align: top;\n",
       "    }\n",
       "\n",
       "    .dataframe thead th {\n",
       "        text-align: right;\n",
       "    }\n",
       "</style>\n",
       "<table border=\"1\" class=\"dataframe\">\n",
       "  <thead>\n",
       "    <tr style=\"text-align: right;\">\n",
       "      <th></th>\n",
       "      <th>v1</th>\n",
       "      <th>v2</th>\n",
       "      <th>v3</th>\n",
       "      <th>v4</th>\n",
       "      <th>v5</th>\n",
       "      <th>w1</th>\n",
       "      <th>w2</th>\n",
       "      <th>w3</th>\n",
       "      <th>province</th>\n",
       "      <th>region_1</th>\n",
       "      <th>region_2</th>\n",
       "      <th>variety</th>\n",
       "    </tr>\n",
       "  </thead>\n",
       "  <tbody>\n",
       "    <tr>\n",
       "      <th>0</th>\n",
       "      <td>0.070395</td>\n",
       "      <td>-0.345443</td>\n",
       "      <td>-0.009697</td>\n",
       "      <td>-0.013358</td>\n",
       "      <td>0.374676</td>\n",
       "      <td>0.270021</td>\n",
       "      <td>0.500957</td>\n",
       "      <td>0.303837</td>\n",
       "      <td>2</td>\n",
       "      <td>172</td>\n",
       "      <td>172</td>\n",
       "      <td>111</td>\n",
       "    </tr>\n",
       "    <tr>\n",
       "      <th>1</th>\n",
       "      <td>-0.079373</td>\n",
       "      <td>-0.132506</td>\n",
       "      <td>-0.149825</td>\n",
       "      <td>-0.116562</td>\n",
       "      <td>0.117183</td>\n",
       "      <td>-0.117554</td>\n",
       "      <td>-0.226639</td>\n",
       "      <td>-0.090644</td>\n",
       "      <td>0</td>\n",
       "      <td>86</td>\n",
       "      <td>81</td>\n",
       "      <td>19</td>\n",
       "    </tr>\n",
       "    <tr>\n",
       "      <th>2</th>\n",
       "      <td>0.227323</td>\n",
       "      <td>0.187854</td>\n",
       "      <td>-0.119900</td>\n",
       "      <td>-0.199117</td>\n",
       "      <td>0.320661</td>\n",
       "      <td>-0.018859</td>\n",
       "      <td>0.086458</td>\n",
       "      <td>-0.184124</td>\n",
       "      <td>0</td>\n",
       "      <td>100</td>\n",
       "      <td>21</td>\n",
       "      <td>74</td>\n",
       "    </tr>\n",
       "    <tr>\n",
       "      <th>3</th>\n",
       "      <td>0.110968</td>\n",
       "      <td>-0.225876</td>\n",
       "      <td>-0.024458</td>\n",
       "      <td>0.113977</td>\n",
       "      <td>0.167287</td>\n",
       "      <td>-0.321348</td>\n",
       "      <td>-0.096149</td>\n",
       "      <td>0.385743</td>\n",
       "      <td>0</td>\n",
       "      <td>139</td>\n",
       "      <td>138</td>\n",
       "      <td>111</td>\n",
       "    </tr>\n",
       "    <tr>\n",
       "      <th>4</th>\n",
       "      <td>0.194910</td>\n",
       "      <td>-0.215580</td>\n",
       "      <td>-0.139762</td>\n",
       "      <td>-0.349235</td>\n",
       "      <td>0.377757</td>\n",
       "      <td>-0.127544</td>\n",
       "      <td>0.137184</td>\n",
       "      <td>0.335661</td>\n",
       "      <td>2</td>\n",
       "      <td>70</td>\n",
       "      <td>172</td>\n",
       "      <td>111</td>\n",
       "    </tr>\n",
       "  </tbody>\n",
       "</table>\n",
       "</div>"
      ],
      "text/plain": [
       "         v1        v2        v3        v4        v5        w1        w2  \\\n",
       "0  0.070395 -0.345443 -0.009697 -0.013358  0.374676  0.270021  0.500957   \n",
       "1 -0.079373 -0.132506 -0.149825 -0.116562  0.117183 -0.117554 -0.226639   \n",
       "2  0.227323  0.187854 -0.119900 -0.199117  0.320661 -0.018859  0.086458   \n",
       "3  0.110968 -0.225876 -0.024458  0.113977  0.167287 -0.321348 -0.096149   \n",
       "4  0.194910 -0.215580 -0.139762 -0.349235  0.377757 -0.127544  0.137184   \n",
       "\n",
       "         w3  province  region_1  region_2  variety  \n",
       "0  0.303837         2       172       172      111  \n",
       "1 -0.090644         0        86        81       19  \n",
       "2 -0.184124         0       100        21       74  \n",
       "3  0.385743         0       139       138      111  \n",
       "4  0.335661         2        70       172      111  "
      ]
     },
     "execution_count": 19,
     "metadata": {},
     "output_type": "execute_result"
    }
   ],
   "source": [
    "vec_df.head()"
   ]
  },
  {
   "cell_type": "markdown",
   "metadata": {},
   "source": [
    "### Нормирование числовых параметров"
   ]
  },
  {
   "cell_type": "code",
   "execution_count": 20,
   "metadata": {
    "scrolled": true,
    "tags": []
   },
   "outputs": [
    {
     "data": {
      "text/plain": [
       "points    -0.236834\n",
       "price     16.359345\n",
       "dtype: float64"
      ]
     },
     "execution_count": 20,
     "metadata": {},
     "output_type": "execute_result"
    }
   ],
   "source": [
    "data.skew(numeric_only=True)"
   ]
  },
  {
   "cell_type": "code",
   "execution_count": 21,
   "metadata": {},
   "outputs": [
    {
     "data": {
      "image/png": "[encoded data removed]",
      "text/plain": [
       "<Figure size 500x500 with 2 Axes>"
      ]
     },
     "metadata": {},
     "output_type": "display_data"
    }
   ],
   "source": [
    "sns.set(font_scale=0.85, rc={'figure.figsize': (5, 5)})\n",
    "ax = data.hist(color='blue')"
   ]
  },
  {
   "cell_type": "code",
   "execution_count": 22,
   "metadata": {},
   "outputs": [
    {
     "data": {
      "text/html": [
       "<div>\n",
       "<style scoped>\n",
       "    .dataframe tbody tr th:only-of-type {\n",
       "        vertical-align: middle;\n",
       "    }\n",
       "\n",
       "    .dataframe tbody tr th {\n",
       "        vertical-align: top;\n",
       "    }\n",
       "\n",
       "    .dataframe thead th {\n",
       "        text-align: right;\n",
       "    }\n",
       "</style>\n",
       "<table border=\"1\" class=\"dataframe\">\n",
       "  <thead>\n",
       "    <tr style=\"text-align: right;\">\n",
       "      <th></th>\n",
       "      <th>points</th>\n",
       "      <th>price</th>\n",
       "    </tr>\n",
       "  </thead>\n",
       "  <tbody>\n",
       "    <tr>\n",
       "      <th>0</th>\n",
       "      <td>-0.903379</td>\n",
       "      <td>0.801076</td>\n",
       "    </tr>\n",
       "    <tr>\n",
       "      <th>1</th>\n",
       "      <td>-0.903379</td>\n",
       "      <td>-0.764683</td>\n",
       "    </tr>\n",
       "    <tr>\n",
       "      <th>2</th>\n",
       "      <td>-0.903379</td>\n",
       "      <td>-0.662568</td>\n",
       "    </tr>\n",
       "    <tr>\n",
       "      <th>3</th>\n",
       "      <td>-0.903379</td>\n",
       "      <td>0.937229</td>\n",
       "    </tr>\n",
       "    <tr>\n",
       "      <th>4</th>\n",
       "      <td>-1.259347</td>\n",
       "      <td>0.290503</td>\n",
       "    </tr>\n",
       "    <tr>\n",
       "      <th>...</th>\n",
       "      <td>...</td>\n",
       "      <td>...</td>\n",
       "    </tr>\n",
       "    <tr>\n",
       "      <th>22382</th>\n",
       "      <td>0.520492</td>\n",
       "      <td>2.162606</td>\n",
       "    </tr>\n",
       "    <tr>\n",
       "      <th>22383</th>\n",
       "      <td>0.520492</td>\n",
       "      <td>-0.015842</td>\n",
       "    </tr>\n",
       "    <tr>\n",
       "      <th>22384</th>\n",
       "      <td>0.164524</td>\n",
       "      <td>-0.730645</td>\n",
       "    </tr>\n",
       "    <tr>\n",
       "      <th>22385</th>\n",
       "      <td>0.164524</td>\n",
       "      <td>-0.220071</td>\n",
       "    </tr>\n",
       "    <tr>\n",
       "      <th>22386</th>\n",
       "      <td>0.164524</td>\n",
       "      <td>-0.220071</td>\n",
       "    </tr>\n",
       "  </tbody>\n",
       "</table>\n",
       "<p>22387 rows × 2 columns</p>\n",
       "</div>"
      ],
      "text/plain": [
       "         points     price\n",
       "0     -0.903379  0.801076\n",
       "1     -0.903379 -0.764683\n",
       "2     -0.903379 -0.662568\n",
       "3     -0.903379  0.937229\n",
       "4     -1.259347  0.290503\n",
       "...         ...       ...\n",
       "22382  0.520492  2.162606\n",
       "22383  0.520492 -0.015842\n",
       "22384  0.164524 -0.730645\n",
       "22385  0.164524 -0.220071\n",
       "22386  0.164524 -0.220071\n",
       "\n",
       "[22387 rows x 2 columns]"
      ]
     },
     "execution_count": 22,
     "metadata": {},
     "output_type": "execute_result"
    }
   ],
   "source": [
    "std_scaler = StandardScaler()\n",
    "scaled_features = std_scaler.fit_transform(data[['points', 'price']])\n",
    "scaled_df = pd.DataFrame(scaled_features, columns=['points', 'price'])\n",
    "scaled_df"
   ]
  },
  {
   "cell_type": "code",
   "execution_count": 23,
   "metadata": {},
   "outputs": [
    {
     "data": {
      "image/png": "[encoded data removed]",
      "text/plain": [
       "<Figure size 500x500 with 2 Axes>"
      ]
     },
     "metadata": {},
     "output_type": "display_data"
    }
   ],
   "source": [
    "ax = scaled_df.hist(color='blue')"
   ]
  },
  {
   "cell_type": "code",
   "execution_count": 24,
   "metadata": {},
   "outputs": [
    {
     "data": {
      "text/html": [
       "<div>\n",
       "<style scoped>\n",
       "    .dataframe tbody tr th:only-of-type {\n",
       "        vertical-align: middle;\n",
       "    }\n",
       "\n",
       "    .dataframe tbody tr th {\n",
       "        vertical-align: top;\n",
       "    }\n",
       "\n",
       "    .dataframe thead th {\n",
       "        text-align: right;\n",
       "    }\n",
       "</style>\n",
       "<table border=\"1\" class=\"dataframe\">\n",
       "  <thead>\n",
       "    <tr style=\"text-align: right;\">\n",
       "      <th></th>\n",
       "      <th>v1</th>\n",
       "      <th>v2</th>\n",
       "      <th>v3</th>\n",
       "      <th>v4</th>\n",
       "      <th>v5</th>\n",
       "      <th>w1</th>\n",
       "      <th>w2</th>\n",
       "      <th>w3</th>\n",
       "      <th>province</th>\n",
       "      <th>region_1</th>\n",
       "      <th>region_2</th>\n",
       "      <th>variety</th>\n",
       "      <th>points</th>\n",
       "      <th>price</th>\n",
       "    </tr>\n",
       "  </thead>\n",
       "  <tbody>\n",
       "    <tr>\n",
       "      <th>0</th>\n",
       "      <td>0.070395</td>\n",
       "      <td>-0.345443</td>\n",
       "      <td>-0.009697</td>\n",
       "      <td>-0.013358</td>\n",
       "      <td>0.374676</td>\n",
       "      <td>0.270021</td>\n",
       "      <td>0.500957</td>\n",
       "      <td>0.303837</td>\n",
       "      <td>2</td>\n",
       "      <td>172</td>\n",
       "      <td>172</td>\n",
       "      <td>111</td>\n",
       "      <td>-0.903379</td>\n",
       "      <td>0.801076</td>\n",
       "    </tr>\n",
       "    <tr>\n",
       "      <th>1</th>\n",
       "      <td>-0.079373</td>\n",
       "      <td>-0.132506</td>\n",
       "      <td>-0.149825</td>\n",
       "      <td>-0.116562</td>\n",
       "      <td>0.117183</td>\n",
       "      <td>-0.117554</td>\n",
       "      <td>-0.226639</td>\n",
       "      <td>-0.090644</td>\n",
       "      <td>0</td>\n",
       "      <td>86</td>\n",
       "      <td>81</td>\n",
       "      <td>19</td>\n",
       "      <td>-0.903379</td>\n",
       "      <td>-0.764683</td>\n",
       "    </tr>\n",
       "    <tr>\n",
       "      <th>2</th>\n",
       "      <td>0.227323</td>\n",
       "      <td>0.187854</td>\n",
       "      <td>-0.119900</td>\n",
       "      <td>-0.199117</td>\n",
       "      <td>0.320661</td>\n",
       "      <td>-0.018859</td>\n",
       "      <td>0.086458</td>\n",
       "      <td>-0.184124</td>\n",
       "      <td>0</td>\n",
       "      <td>100</td>\n",
       "      <td>21</td>\n",
       "      <td>74</td>\n",
       "      <td>-0.903379</td>\n",
       "      <td>-0.662568</td>\n",
       "    </tr>\n",
       "    <tr>\n",
       "      <th>3</th>\n",
       "      <td>0.110968</td>\n",
       "      <td>-0.225876</td>\n",
       "      <td>-0.024458</td>\n",
       "      <td>0.113977</td>\n",
       "      <td>0.167287</td>\n",
       "      <td>-0.321348</td>\n",
       "      <td>-0.096149</td>\n",
       "      <td>0.385743</td>\n",
       "      <td>0</td>\n",
       "      <td>139</td>\n",
       "      <td>138</td>\n",
       "      <td>111</td>\n",
       "      <td>-0.903379</td>\n",
       "      <td>0.937229</td>\n",
       "    </tr>\n",
       "    <tr>\n",
       "      <th>4</th>\n",
       "      <td>0.194910</td>\n",
       "      <td>-0.215580</td>\n",
       "      <td>-0.139762</td>\n",
       "      <td>-0.349235</td>\n",
       "      <td>0.377757</td>\n",
       "      <td>-0.127544</td>\n",
       "      <td>0.137184</td>\n",
       "      <td>0.335661</td>\n",
       "      <td>2</td>\n",
       "      <td>70</td>\n",
       "      <td>172</td>\n",
       "      <td>111</td>\n",
       "      <td>-1.259347</td>\n",
       "      <td>0.290503</td>\n",
       "    </tr>\n",
       "  </tbody>\n",
       "</table>\n",
       "</div>"
      ],
      "text/plain": [
       "         v1        v2        v3        v4        v5        w1        w2  \\\n",
       "0  0.070395 -0.345443 -0.009697 -0.013358  0.374676  0.270021  0.500957   \n",
       "1 -0.079373 -0.132506 -0.149825 -0.116562  0.117183 -0.117554 -0.226639   \n",
       "2  0.227323  0.187854 -0.119900 -0.199117  0.320661 -0.018859  0.086458   \n",
       "3  0.110968 -0.225876 -0.024458  0.113977  0.167287 -0.321348 -0.096149   \n",
       "4  0.194910 -0.215580 -0.139762 -0.349235  0.377757 -0.127544  0.137184   \n",
       "\n",
       "         w3  province  region_1  region_2  variety    points     price  \n",
       "0  0.303837         2       172       172      111 -0.903379  0.801076  \n",
       "1 -0.090644         0        86        81       19 -0.903379 -0.764683  \n",
       "2 -0.184124         0       100        21       74 -0.903379 -0.662568  \n",
       "3  0.385743         0       139       138      111 -0.903379  0.937229  \n",
       "4  0.335661         2        70       172      111 -1.259347  0.290503  "
      ]
     },
     "execution_count": 24,
     "metadata": {},
     "output_type": "execute_result"
    }
   ],
   "source": [
    "vec_df = vec_df.join(scaled_df, how='left')\n",
    "vec_df.head()"
   ]
  },
  {
   "cell_type": "markdown",
   "metadata": {},
   "source": [
    "### Удаление неинформативных колонок\n",
    "Кажется, некоторые колонки (такие, как имя автора отзыва и его ник в твиттере) не несут никакой значимой информации о вине как таковом. Если мы хотим кластеризовать сами вина, а не авторов, то эти колонки можно спокойно выбросить. Дальше будем работать с датафреймом vec_df, в котором некоторых из исходных колонок нет:"
   ]
  },
  {
   "cell_type": "code",
   "execution_count": 25,
   "metadata": {},
   "outputs": [
    {
     "data": {
      "text/plain": [
       "(22387, 14)"
      ]
     },
     "execution_count": 25,
     "metadata": {},
     "output_type": "execute_result"
    }
   ],
   "source": [
    "vec_df.shape"
   ]
  },
  {
   "cell_type": "code",
   "execution_count": 26,
   "metadata": {},
   "outputs": [
    {
     "data": {
      "text/plain": [
       "v1          22380\n",
       "v2          22385\n",
       "v3          22383\n",
       "v4          22384\n",
       "v5          22381\n",
       "w1          22380\n",
       "w2          22382\n",
       "w3          22380\n",
       "province        4\n",
       "region_1      171\n",
       "region_2       17\n",
       "variety       183\n",
       "points         21\n",
       "price         146\n",
       "dtype: int64"
      ]
     },
     "execution_count": 26,
     "metadata": {},
     "output_type": "execute_result"
    }
   ],
   "source": [
    "vec_df.nunique()"
   ]
  },
  {
   "cell_type": "markdown",
   "metadata": {},
   "source": [
    "Посмотрим на корреляцию числовых параметров -- цены и рейтинга:"
   ]
  },
  {
   "cell_type": "code",
   "execution_count": 27,
   "metadata": {
    "tags": []
   },
   "outputs": [
    {
     "data": {
      "text/html": [
       "<div>\n",
       "<style scoped>\n",
       "    .dataframe tbody tr th:only-of-type {\n",
       "        vertical-align: middle;\n",
       "    }\n",
       "\n",
       "    .dataframe tbody tr th {\n",
       "        vertical-align: top;\n",
       "    }\n",
       "\n",
       "    .dataframe thead th {\n",
       "        text-align: right;\n",
       "    }\n",
       "</style>\n",
       "<table border=\"1\" class=\"dataframe\">\n",
       "  <thead>\n",
       "    <tr style=\"text-align: right;\">\n",
       "      <th></th>\n",
       "      <th>points</th>\n",
       "      <th>price</th>\n",
       "    </tr>\n",
       "  </thead>\n",
       "  <tbody>\n",
       "    <tr>\n",
       "      <th>points</th>\n",
       "      <td>1.000000</td>\n",
       "      <td>0.394626</td>\n",
       "    </tr>\n",
       "    <tr>\n",
       "      <th>price</th>\n",
       "      <td>0.394626</td>\n",
       "      <td>1.000000</td>\n",
       "    </tr>\n",
       "  </tbody>\n",
       "</table>\n",
       "</div>"
      ],
      "text/plain": [
       "          points     price\n",
       "points  1.000000  0.394626\n",
       "price   0.394626  1.000000"
      ]
     },
     "execution_count": 27,
     "metadata": {},
     "output_type": "execute_result"
    }
   ],
   "source": [
    "corr_df = vec_df[['points', 'price']]\n",
    "corr_df.corr()"
   ]
  },
  {
   "cell_type": "markdown",
   "metadata": {},
   "source": [
    "Тут мы видим слабую положительную корреляцию: чем дороже вино, тем лучше его оценивают."
   ]
  },
  {
   "cell_type": "markdown",
   "metadata": {},
   "source": [
    "### Уменьшение размерности"
   ]
  },
  {
   "cell_type": "code",
   "execution_count": 28,
   "metadata": {},
   "outputs": [
    {
     "data": {
      "text/plain": [
       "(22387, 2)"
      ]
     },
     "execution_count": 28,
     "metadata": {},
     "output_type": "execute_result"
    }
   ],
   "source": [
    "pca_2 = PCA(2)\n",
    "pca_2_result = pca_2.fit_transform(vec_df) \n",
    "pca_2_result.shape"
   ]
  },
  {
   "cell_type": "code",
   "execution_count": 29,
   "metadata": {},
   "outputs": [
    {
     "data": {
      "image/png": "[encoded data removed]",
      "text/plain": [
       "<Figure size 700x700 with 1 Axes>"
      ]
     },
     "metadata": {},
     "output_type": "display_data"
    }
   ],
   "source": [
    "sns.set(rc={'figure.figsize': (7, 7)}, font_scale=1)\n",
    "\n",
    "plt.scatter(x=pca_2_result[:, 0], y=pca_2_result[:, 1], color='blue')\n",
    "plt.xlabel('PC 1')\n",
    "plt.ylabel('PC 2')\n",
    "\n",
    "plt.title('Распределение данных по двум главным компонентам')\n",
    "plt.show()"
   ]
  },
  {
   "cell_type": "markdown",
   "metadata": {},
   "source": [
    "Картинка подсказывает, что хорошей кластеризации не получится))"
   ]
  },
  {
   "cell_type": "markdown",
   "metadata": {},
   "source": [
    "## Кластеризация\n",
    "В идеальном мире хотелось бы увидеть разделение датасета на кластеры по типам вина или регионам, но, скорее всего, это утопия. Попробуем кластеризовать по числу провинций (4)."
   ]
  },
  {
   "cell_type": "code",
   "execution_count": 30,
   "metadata": {},
   "outputs": [
    {
     "data": {
      "text/plain": [
       "KMeans(n_clusters=4, n_init=15, random_state=42)"
      ]
     },
     "execution_count": 30,
     "metadata": {},
     "output_type": "execute_result"
    }
   ],
   "source": [
    "kmeans = KMeans(n_clusters=4, n_init=15, random_state=RANDOM_SEED)\n",
    "kmeans.fit(pca_2_result)"
   ]
  },
  {
   "cell_type": "markdown",
   "metadata": {},
   "source": [
    "Посмотрим на метрики: *инерция* -- сумма квадратов ошибок для каждого кластера. Чем ниже значения инерции, тем более \"плотные\" получились кластеры, следовательно, тем лучше прошла кластеризация."
   ]
  },
  {
   "cell_type": "code",
   "execution_count": 31,
   "metadata": {},
   "outputs": [
    {
     "data": {
      "text/plain": [
       "34697211.85043259"
      ]
     },
     "execution_count": 31,
     "metadata": {},
     "output_type": "execute_result"
    }
   ],
   "source": [
    "kmeans.inertia_"
   ]
  },
  {
   "cell_type": "markdown",
   "metadata": {},
   "source": [
    "Значение инерции очень большое, следовательно, кластеризация плохая.\n",
    "\n",
    "Попробуем кластеризацию по разным значениям (по числу уникальных значений для разных признаков):"
   ]
  },
  {
   "cell_type": "code",
   "execution_count": 32,
   "metadata": {},
   "outputs": [
    {
     "name": "stderr",
     "output_type": "stream",
     "text": [
      "100%|████████████████████████████████████████████████████████████████████████████████████| 6/6 [00:51<00:00,  8.52s/it]\n"
     ]
    }
   ],
   "source": [
    "num_clusters = sorted([4, 171, 17, 183, 21, 146])\n",
    "\n",
    "inertia = {}\n",
    "silhouette = {}\n",
    "\n",
    "for i in tqdm(num_clusters):\n",
    "    kmeans = KMeans(n_clusters=i, n_init=15, random_state=RANDOM_SEED)\n",
    "    kmeans.fit(pca_2_result)\n",
    "    inertia[i] = kmeans.inertia_\n",
    "    silhouette[i] = silhouette_score(pca_2_result,\n",
    "                                     kmeans.labels_,\n",
    "                                     metric='euclidean')"
   ]
  },
  {
   "cell_type": "code",
   "execution_count": 33,
   "metadata": {},
   "outputs": [
    {
     "data": {
      "text/plain": [
       "{4: 34697211.85043259,\n",
       " 17: 6010177.577157335,\n",
       " 21: 4576472.702226575,\n",
       " 146: 270528.59452467196,\n",
       " 171: 213340.44700605155,\n",
       " 183: 193764.5967166611}"
      ]
     },
     "execution_count": 33,
     "metadata": {},
     "output_type": "execute_result"
    }
   ],
   "source": [
    "inertia"
   ]
  },
  {
   "cell_type": "markdown",
   "metadata": {},
   "source": [
    "Чем больше кластеров, тем меньше значение инерции, но оно все равно очень велико.\n",
    "\n",
    "Теперь посмотрим на силуэты (чем больше значение, тем лучше)."
   ]
  },
  {
   "cell_type": "code",
   "execution_count": 34,
   "metadata": {},
   "outputs": [
    {
     "data": {
      "text/plain": [
       "{4: 0.4388838349387094,\n",
       " 17: 0.4965333292760216,\n",
       " 21: 0.517988939475623,\n",
       " 146: 0.6902181299022235,\n",
       " 171: 0.70400594431497,\n",
       " 183: 0.6988415078069834}"
      ]
     },
     "execution_count": 34,
     "metadata": {},
     "output_type": "execute_result"
    }
   ],
   "source": [
    "silhouette"
   ]
  },
  {
   "cell_type": "markdown",
   "metadata": {},
   "source": [
    "На бОльшем числе кластеров silhouette score выше, но незначительно."
   ]
  },
  {
   "cell_type": "markdown",
   "metadata": {},
   "source": [
    "### Визуализация: метрики"
   ]
  },
  {
   "cell_type": "code",
   "execution_count": 35,
   "metadata": {},
   "outputs": [
    {
     "data": {
      "image/png": "[encoded data removed]",
      "text/plain": [
       "<Figure size 1000x400 with 2 Axes>"
      ]
     },
     "metadata": {},
     "output_type": "display_data"
    }
   ],
   "source": [
    "sns.set(font_scale=1, rc={'figure.figsize': (10, 4)})\n",
    "\n",
    "# значения инерции\n",
    "plt.subplot(1, 2, 1) # аргументы: nrows, ncols, index\n",
    "plt.plot(list(inertia.keys()), list(inertia.values()), marker='x', color='blue') \n",
    "plt.title('K-means Inertia', fontweight='bold')\n",
    "plt.xlabel('Число кластеров')\n",
    "plt.grid(True)\n",
    "\n",
    "# силуэты\n",
    "plt.subplot(1, 2, 2)\n",
    "plt.bar(range(len(silhouette)),\n",
    "        list(silhouette.values()),\n",
    "        align='center', color='blue')\n",
    "plt.xticks(range(len(silhouette)), list(silhouette.keys())) # отметки на шкале\n",
    "plt.title('Silhouette Score', fontweight='bold')\n",
    "plt.xlabel('Число кластеров')\n",
    "plt.grid(True)\n",
    "\n",
    "plt.show()"
   ]
  },
  {
   "cell_type": "markdown",
   "metadata": {},
   "source": [
    "Наше лучшее число кластеров -- 171."
   ]
  },
  {
   "cell_type": "code",
   "execution_count": 36,
   "metadata": {},
   "outputs": [
    {
     "data": {
      "text/plain": [
       "13     1044\n",
       "21      739\n",
       "14      702\n",
       "6       580\n",
       "27      556\n",
       "       ... \n",
       "49       17\n",
       "164      14\n",
       "52       12\n",
       "122      11\n",
       "158      11\n",
       "Length: 171, dtype: int64"
      ]
     },
     "metadata": {},
     "output_type": "display_data"
    }
   ],
   "source": [
    "kmeans = KMeans(n_clusters=171, n_init=15, random_state=RANDOM_SEED)\n",
    "kmeans_labels = kmeans.fit_predict(pca_2_result)\n",
    "centroids = kmeans.cluster_centers_\n",
    "display(pd.Series(kmeans_labels).value_counts())"
   ]
  },
  {
   "cell_type": "code",
   "execution_count": 37,
   "metadata": {},
   "outputs": [],
   "source": [
    "pca_2_df = pd.DataFrame(pca_2_result)\n",
    "pca_2_df['kmeans'] = kmeans_labels"
   ]
  },
  {
   "cell_type": "code",
   "execution_count": 38,
   "metadata": {
    "tags": []
   },
   "outputs": [
    {
     "data": {
      "text/html": [
       "<div>\n",
       "<style scoped>\n",
       "    .dataframe tbody tr th:only-of-type {\n",
       "        vertical-align: middle;\n",
       "    }\n",
       "\n",
       "    .dataframe tbody tr th {\n",
       "        vertical-align: top;\n",
       "    }\n",
       "\n",
       "    .dataframe thead th {\n",
       "        text-align: right;\n",
       "    }\n",
       "</style>\n",
       "<table border=\"1\" class=\"dataframe\">\n",
       "  <thead>\n",
       "    <tr style=\"text-align: right;\">\n",
       "      <th></th>\n",
       "      <th>0</th>\n",
       "      <th>1</th>\n",
       "      <th>kmeans</th>\n",
       "    </tr>\n",
       "  </thead>\n",
       "  <tbody>\n",
       "    <tr>\n",
       "      <th>0</th>\n",
       "      <td>122.082913</td>\n",
       "      <td>-18.092978</td>\n",
       "      <td>13</td>\n",
       "    </tr>\n",
       "    <tr>\n",
       "      <th>1</th>\n",
       "      <td>-17.562738</td>\n",
       "      <td>-40.483449</td>\n",
       "      <td>143</td>\n",
       "    </tr>\n",
       "    <tr>\n",
       "      <th>2</th>\n",
       "      <td>-48.354010</td>\n",
       "      <td>-31.049418</td>\n",
       "      <td>48</td>\n",
       "    </tr>\n",
       "    <tr>\n",
       "      <th>3</th>\n",
       "      <td>76.968482</td>\n",
       "      <td>-3.629396</td>\n",
       "      <td>27</td>\n",
       "    </tr>\n",
       "    <tr>\n",
       "      <th>4</th>\n",
       "      <td>70.087894</td>\n",
       "      <td>54.794238</td>\n",
       "      <td>99</td>\n",
       "    </tr>\n",
       "    <tr>\n",
       "      <th>...</th>\n",
       "      <td>...</td>\n",
       "      <td>...</td>\n",
       "      <td>...</td>\n",
       "    </tr>\n",
       "    <tr>\n",
       "      <th>22382</th>\n",
       "      <td>6.191554</td>\n",
       "      <td>-49.371121</td>\n",
       "      <td>152</td>\n",
       "    </tr>\n",
       "    <tr>\n",
       "      <th>22383</th>\n",
       "      <td>11.645324</td>\n",
       "      <td>-33.212884</td>\n",
       "      <td>60</td>\n",
       "    </tr>\n",
       "    <tr>\n",
       "      <th>22384</th>\n",
       "      <td>-40.334467</td>\n",
       "      <td>-78.468291</td>\n",
       "      <td>65</td>\n",
       "    </tr>\n",
       "    <tr>\n",
       "      <th>22385</th>\n",
       "      <td>-14.723972</td>\n",
       "      <td>-32.088220</td>\n",
       "      <td>114</td>\n",
       "    </tr>\n",
       "    <tr>\n",
       "      <th>22386</th>\n",
       "      <td>17.793770</td>\n",
       "      <td>64.177607</td>\n",
       "      <td>129</td>\n",
       "    </tr>\n",
       "  </tbody>\n",
       "</table>\n",
       "<p>22387 rows × 3 columns</p>\n",
       "</div>"
      ],
      "text/plain": [
       "                0          1  kmeans\n",
       "0      122.082913 -18.092978      13\n",
       "1      -17.562738 -40.483449     143\n",
       "2      -48.354010 -31.049418      48\n",
       "3       76.968482  -3.629396      27\n",
       "4       70.087894  54.794238      99\n",
       "...           ...        ...     ...\n",
       "22382    6.191554 -49.371121     152\n",
       "22383   11.645324 -33.212884      60\n",
       "22384  -40.334467 -78.468291      65\n",
       "22385  -14.723972 -32.088220     114\n",
       "22386   17.793770  64.177607     129\n",
       "\n",
       "[22387 rows x 3 columns]"
      ]
     },
     "execution_count": 38,
     "metadata": {},
     "output_type": "execute_result"
    }
   ],
   "source": [
    "pca_2_df"
   ]
  },
  {
   "cell_type": "markdown",
   "metadata": {},
   "source": [
    "### Визуализация: кластеры"
   ]
  },
  {
   "cell_type": "code",
   "execution_count": 39,
   "metadata": {},
   "outputs": [
    {
     "data": {
      "image/png": "[encoded data removed]",
      "text/plain": [
       "<Figure size 500x400 with 1 Axes>"
      ]
     },
     "metadata": {},
     "output_type": "display_data"
    },
    {
     "data": {
      "image/png": "[encoded data removed]",
      "text/plain": [
       "<Figure size 500x400 with 1 Axes>"
      ]
     },
     "metadata": {},
     "output_type": "display_data"
    }
   ],
   "source": [
    "sns.set(rc={'figure.figsize': (5, 4)}, font_scale=1)\n",
    "\n",
    "plt.subplot(1, 2, 1) # аргументы: nrows, ncols, index\n",
    "plt.scatter(x=pca_2_result[:, 0], y=pca_2_result[:, 1], color='blue') # 0 и 1 - индексы колонок\n",
    "plt.xlabel('PC 1')\n",
    "plt.ylabel('PC 2')\n",
    "\n",
    "plt.title('Распределение данных по двум главным компонентам')\n",
    "plt.show()\n",
    "\n",
    "plt.subplot(1, 2, 2)\n",
    "sns.set(rc={'figure.figsize':(5,4)},font_scale=1)\n",
    "\n",
    "plt.scatter(x=pca_2_result[:, 0], y=pca_2_result[:, 1], c=kmeans_labels, cmap='viridis')\n",
    "plt.scatter(centroids[:, 0], centroids[:, 1],\n",
    "            marker='x', s=160, color='black')\n",
    "\n",
    "plt.xlabel('Principal Component 1')\n",
    "plt.ylabel('Principal Component 2')\n",
    "\n",
    "plt.title('Clustered Data (PCA visualization)',fontweight='bold')\n",
    "\n",
    "plt.show()"
   ]
  },
  {
   "cell_type": "markdown",
   "metadata": {},
   "source": [
    "Осталось посчитать метрики, хотя и без них понятно, что все как-то не очень:"
   ]
  },
  {
   "cell_type": "code",
   "execution_count": 40,
   "metadata": {},
   "outputs": [
    {
     "name": "stdout",
     "output_type": "stream",
     "text": [
      "Inertia score: 213340.4\n",
      "Silhouette score: 0.7\n"
     ]
    }
   ],
   "source": [
    "# силуэты: определяется на промежутке [-1;1] (чем выше тем лучше)\n",
    "# инерция: определяется на [0, inf) (чем ниже тем лучше)\n",
    "\n",
    "print('Inertia score: %0.1f' % kmeans.inertia_)\n",
    "print('Silhouette score: %0.1f' % silhouette_score(pca_2_result,\n",
    "                                                   kmeans.labels_,\n",
    "                                                   metric='euclidean'))"
   ]
  },
  {
   "cell_type": "markdown",
   "metadata": {},
   "source": [
    "Кластеры получились плохие :("
   ]
  },
  {
   "cell_type": "markdown",
   "metadata": {},
   "source": [
    "### Mean Shift\n",
    "Интересно попробовать, потому что этот алгоритм не распихивает все объекты по кластерам, даже если они туда не лезут."
   ]
  },
  {
   "cell_type": "code",
   "execution_count": 41,
   "metadata": {},
   "outputs": [
    {
     "data": {
      "text/plain": [
       "103.19225075354201"
      ]
     },
     "execution_count": 41,
     "metadata": {},
     "output_type": "execute_result"
    }
   ],
   "source": [
    "# bandwidth - как раз размер этого кружка, но его сложно подбирать самому, т.к. в каждой задаче он будет свой\n",
    "# вот так можно узнать, что будет по умолчанию и начать с этого значения, постепенно уменьшая или увеличивая\n",
    "\n",
    "sklearn.cluster.estimate_bandwidth(vec_df)"
   ]
  },
  {
   "cell_type": "code",
   "execution_count": 43,
   "metadata": {},
   "outputs": [
    {
     "data": {
      "text/plain": [
       "MeanShift(bandwidth=103, cluster_all=False)"
      ]
     },
     "execution_count": 43,
     "metadata": {},
     "output_type": "execute_result"
    }
   ],
   "source": [
    "cluster = MeanShift(cluster_all=False, bandwidth=103)\n",
    "cluster.fit(vec_df)"
   ]
  },
  {
   "cell_type": "code",
   "execution_count": 44,
   "metadata": {},
   "outputs": [
    {
     "data": {
      "text/plain": [
       "2"
      ]
     },
     "execution_count": 44,
     "metadata": {},
     "output_type": "execute_result"
    }
   ],
   "source": [
    "len(set(cluster.labels_))"
   ]
  },
  {
   "cell_type": "code",
   "execution_count": 45,
   "metadata": {},
   "outputs": [
    {
     "data": {
      "text/plain": [
       " 0    13898\n",
       "-1     8489\n",
       "Name: mean_shift, dtype: int64"
      ]
     },
     "execution_count": 45,
     "metadata": {},
     "output_type": "execute_result"
    }
   ],
   "source": [
    "vec_df['mean_shift'] = cluster.labels_\n",
    "vec_df['mean_shift'].value_counts() "
   ]
  },
  {
   "cell_type": "markdown",
   "metadata": {},
   "source": [
    "Ну это, конечно, просто восторг: данные распределились на кластер мусора и не-мусора))"
   ]
  },
  {
   "cell_type": "code",
   "execution_count": 47,
   "metadata": {},
   "outputs": [
    {
     "name": "stdout",
     "output_type": "stream",
     "text": [
      "Silhouette score: 0.3\n"
     ]
    }
   ],
   "source": [
    "# print('Inertia score: %0.1f' % cluster.inertia_)\n",
    "print('Silhouette score: %0.1f' % silhouette_score(vec_df.drop(columns=['mean_shift']),\n",
    "                                                   cluster.labels_,\n",
    "                                                   metric='euclidean'))"
   ]
  },
  {
   "cell_type": "code",
   "execution_count": 49,
   "metadata": {},
   "outputs": [],
   "source": [
    "vec_df.drop(columns=['mean_shift'], inplace=True)"
   ]
  },
  {
   "cell_type": "markdown",
   "metadata": {},
   "source": [
    "### DBSCAN"
   ]
  },
  {
   "cell_type": "code",
   "execution_count": 50,
   "metadata": {},
   "outputs": [
    {
     "data": {
      "text/plain": [
       "DBSCAN()"
      ]
     },
     "execution_count": 50,
     "metadata": {},
     "output_type": "execute_result"
    }
   ],
   "source": [
    "# eps - задает максимальную для объединения дистанцию между объектами == размер окрестности\n",
    "# min_samples - минимальное количество объектов в классе\n",
    "\n",
    "cluster = DBSCAN(min_samples=5, eps=0.5)\n",
    "cluster.fit(vec_df)"
   ]
  },
  {
   "cell_type": "markdown",
   "metadata": {},
   "source": [
    "Метки кластеров для всех объектов в датасете лежат в cluster.labels_"
   ]
  },
  {
   "cell_type": "code",
   "execution_count": 51,
   "metadata": {},
   "outputs": [
    {
     "data": {
      "text/plain": [
       "-1      19486\n",
       " 1        578\n",
       " 4        352\n",
       " 10       181\n",
       " 14       168\n",
       "        ...  \n",
       " 108        4\n",
       " 77         4\n",
       " 115        4\n",
       " 68         4\n",
       " 52         4\n",
       "Name: dbscan, Length: 138, dtype: int64"
      ]
     },
     "execution_count": 51,
     "metadata": {},
     "output_type": "execute_result"
    }
   ],
   "source": [
    "vec_df['dbscan'] = cluster.labels_\n",
    "vec_df['dbscan'].value_counts() "
   ]
  },
  {
   "cell_type": "code",
   "execution_count": 55,
   "metadata": {
    "tags": []
   },
   "outputs": [
    {
     "name": "stdout",
     "output_type": "stream",
     "text": [
      "Silhouette score: -0.735\n"
     ]
    }
   ],
   "source": [
    "print('Silhouette score: %0.3f' % silhouette_score(vec_df.drop(columns=['dbscan']),\n",
    "                                                   cluster.labels_,\n",
    "                                                   metric='euclidean'))"
   ]
  },
  {
   "cell_type": "code",
   "execution_count": 56,
   "metadata": {},
   "outputs": [],
   "source": [
    "vec_df.drop(columns=['dbscan'], inplace=True)"
   ]
  },
  {
   "cell_type": "markdown",
   "metadata": {},
   "source": [
    "## Результаты"
   ]
  },
  {
   "cell_type": "markdown",
   "metadata": {},
   "source": [
    "Кластеризация всеми методами получилась плохая. Скорее всего, это просто особенность датасета и задачи: какая-нибудь регрессия или классификация вполне могла бы получиться (например, предсказание оценки или цены по описанию), но кластеризоваться данные не хотят из-за своей разнородности. Если бы у нас были какие-нибудь данные о составе вин, как в датасете на паре, то вина могли бы кластеризоваться по типам.\n",
    "\n",
    "Чем большее число кластеров мы задавали, тем лучше кластеризовались данные (по крайней мере, для K-Means это было очевидно). Возможно, данные можно было бы разбить на много-много мелких кластеров, но визуализировать и анализировать их глазами было бы нереально. Кроме того, непонятно, как можно было бы интерпретировать такое число кластеров: может быть, как вина, произведенные на одной винодельне? Для таких выводов нужно обладать некоторым уровнем знаний по данной теме, которого лично у меня нет."
   ]
  }
 ],
 "metadata": {
  "kernelspec": {
   "display_name": "Python 3 (ipykernel)",
   "language": "python",
   "name": "python3"
  },
  "language_info": {
   "codemirror_mode": {
    "name": "ipython",
    "version": 3
   },
   "file_extension": ".py",
   "mimetype": "text/x-python",
   "name": "python",
   "nbconvert_exporter": "python",
   "pygments_lexer": "ipython3",
   "version": "3.9.13"
  }
 },
 "nbformat": 4,
 "nbformat_minor": 4
}
