{
  "cells": [
    {
      "cell_type": "markdown",
      "metadata": {
        "id": "view-in-github"
      },
      "source": [
        "<a href=\"https://colab.research.google.com/github/eaklykova/machine_learning_2023/blob/main/Klykova_Part_04_classification.ipynb\" target=\"_parent\"><img src=\"https://colab.research.google.com/assets/colab-badge.svg\" alt=\"Open In Colab\"/></a>"
      ]
    },
    {
      "cell_type": "markdown",
      "metadata": {
        "id": "begIKlTyB2sV"
      },
      "source": [
        "# Задачи классификации\n",
        "\n",
        "Задача классифификации (classification) - метод обучения с учителем (supervised)\n",
        "\n",
        "Классификация - задача для алгоритмов машинного обучения восстановить на объектах обучающей выборки **метки классов**. Классы - конечный (дискретный) набор целевых переменных. Например, в задаче фильтрации спама два класса: спам (метка $1$) и не спам (метка $0$)\n",
        "\n",
        "Классификация бывает бинарная (когда классов всего два: $0$ и $1$) и мультиклассовая, когда классов несколько. Если научились классифицировать на два класса, то и на несколько получится: метод One vs All."
      ]
    },
    {
      "cell_type": "code",
      "execution_count": 1,
      "metadata": {
        "colab": {
          "base_uri": "https://localhost:8080/"
        },
        "id": "KnDYDutsBwXS",
        "outputId": "1ceae788-421c-47c5-f36e-ec5d7b600adf"
      },
      "outputs": [
        {
          "output_type": "stream",
          "name": "stderr",
          "text": [
            "INFO:__main__:Инициализировали логгер\n",
            "INFO:__main__:Подключили диск\n",
            "INFO:__main__:Содержимое директории /content/drive/MyDrive/hse_nlp_2021: ['nyt-ingredients-snapshot-2015.csv', 'insurance.csv', 'non_linear.csv', 'eigen.pkl', 'clustering.pkl', 'client_segmentation.csv', 'boosting_toy_dataset.csv', 'ocr_dataset.zip', 'final_dataset.zip', 'politic_meme.jpg', 'gray_goose.jpg', 'recsys_data', 'nltk_data', 'corpora', 'test_task_data', 'nltk_data_old', 'my_little_recsys', 'sklearn_data', 'memes', 'optimal_push_time', 'logs', 'torch_models']\n"
          ]
        },
        {
          "output_type": "stream",
          "name": "stdout",
          "text": [
            "Drive already mounted at /content/drive; to attempt to forcibly remount, call drive.mount(\"/content/drive\", force_remount=True).\n"
          ]
        }
      ],
      "source": [
        "import logging\n",
        "import os\n",
        "import shutil\n",
        "import random\n",
        "import itertools\n",
        "from collections import Counter, defaultdict\n",
        "\n",
        "import pandas as pd\n",
        "import numpy as np\n",
        "\n",
        "from google.colab import drive\n",
        "\n",
        "from scipy.stats import norm\n",
        "from scipy.spatial import distance\n",
        "from sklearn.naive_bayes import GaussianNB\n",
        "from sklearn.metrics import confusion_matrix, accuracy_score\n",
        "from sklearn.model_selection import train_test_split\n",
        "from sklearn.linear_model import LogisticRegression\n",
        "\n",
        "from matplotlib import pyplot as plt\n",
        "%matplotlib inline\n",
        "\n",
        "RANDOM_SEED = 42\n",
        "np.random.seed(RANDOM_SEED)  # гарантируем воспроизводимость\n",
        "random.seed(RANDOM_SEED)\n",
        "\n",
        "logging.getLogger().setLevel(logging.INFO)\n",
        "logging.basicConfig(format='%(asctime)s : %(levelname)s : %(message)s',\n",
        "                    level=logging.INFO)\n",
        "logger = logging.getLogger(__name__)\n",
        "logger.info('Инициализировали логгер')\n",
        "\n",
        "ROOT_DIR = '/content/drive'\n",
        "drive.mount(ROOT_DIR)\n",
        "logger.info('Подключили диск')\n",
        "\n",
        "root_data_dir = os.path.join(ROOT_DIR, 'MyDrive', 'hse_nlp_2021')\n",
        "\n",
        "if not os.path.exists(root_data_dir):\n",
        "    raise RuntimeError('Отсутствует директория с данными')\n",
        "else:\n",
        "    logger.info('Содержимое директории %s: %s',\n",
        "                root_data_dir, os.listdir(root_data_dir))"
      ]
    },
    {
      "cell_type": "markdown",
      "metadata": {
        "id": "ls5L2Xb-EG7P"
      },
      "source": [
        "Загружаем данные - у нас будет новый датасет с задачей классификации"
      ]
    },
    {
      "cell_type": "code",
      "execution_count": 2,
      "metadata": {
        "colab": {
          "base_uri": "https://localhost:8080/",
          "height": 206
        },
        "id": "rkNpxXLwB23h",
        "outputId": "0c270bd7-b869-467e-eeee-522ea205c1d4"
      },
      "outputs": [
        {
          "output_type": "execute_result",
          "data": {
            "text/plain": [
              "   call_diff  sms_diff  traffic_diff  customes_class\n",
              "0  -0.666421  0.444911     -0.273538               0\n",
              "1  -0.889273 -0.537896     -1.959469               2\n",
              "2  -0.841503  0.846665      0.727606               0\n",
              "3   1.389749  0.390911      1.789246               1\n",
              "4  -1.228211 -1.375899     -1.434209               2"
            ],
            "text/html": [
              "\n",
              "  <div id=\"df-dc19d6e5-837e-4344-bd81-59e08d644e4d\">\n",
              "    <div class=\"colab-df-container\">\n",
              "      <div>\n",
              "<style scoped>\n",
              "    .dataframe tbody tr th:only-of-type {\n",
              "        vertical-align: middle;\n",
              "    }\n",
              "\n",
              "    .dataframe tbody tr th {\n",
              "        vertical-align: top;\n",
              "    }\n",
              "\n",
              "    .dataframe thead th {\n",
              "        text-align: right;\n",
              "    }\n",
              "</style>\n",
              "<table border=\"1\" class=\"dataframe\">\n",
              "  <thead>\n",
              "    <tr style=\"text-align: right;\">\n",
              "      <th></th>\n",
              "      <th>call_diff</th>\n",
              "      <th>sms_diff</th>\n",
              "      <th>traffic_diff</th>\n",
              "      <th>customes_class</th>\n",
              "    </tr>\n",
              "  </thead>\n",
              "  <tbody>\n",
              "    <tr>\n",
              "      <th>0</th>\n",
              "      <td>-0.666421</td>\n",
              "      <td>0.444911</td>\n",
              "      <td>-0.273538</td>\n",
              "      <td>0</td>\n",
              "    </tr>\n",
              "    <tr>\n",
              "      <th>1</th>\n",
              "      <td>-0.889273</td>\n",
              "      <td>-0.537896</td>\n",
              "      <td>-1.959469</td>\n",
              "      <td>2</td>\n",
              "    </tr>\n",
              "    <tr>\n",
              "      <th>2</th>\n",
              "      <td>-0.841503</td>\n",
              "      <td>0.846665</td>\n",
              "      <td>0.727606</td>\n",
              "      <td>0</td>\n",
              "    </tr>\n",
              "    <tr>\n",
              "      <th>3</th>\n",
              "      <td>1.389749</td>\n",
              "      <td>0.390911</td>\n",
              "      <td>1.789246</td>\n",
              "      <td>1</td>\n",
              "    </tr>\n",
              "    <tr>\n",
              "      <th>4</th>\n",
              "      <td>-1.228211</td>\n",
              "      <td>-1.375899</td>\n",
              "      <td>-1.434209</td>\n",
              "      <td>2</td>\n",
              "    </tr>\n",
              "  </tbody>\n",
              "</table>\n",
              "</div>\n",
              "      <button class=\"colab-df-convert\" onclick=\"convertToInteractive('df-dc19d6e5-837e-4344-bd81-59e08d644e4d')\"\n",
              "              title=\"Convert this dataframe to an interactive table.\"\n",
              "              style=\"display:none;\">\n",
              "        \n",
              "  <svg xmlns=\"http://www.w3.org/2000/svg\" height=\"24px\"viewBox=\"0 0 24 24\"\n",
              "       width=\"24px\">\n",
              "    <path d=\"M0 0h24v24H0V0z\" fill=\"none\"/>\n",
              "    <path d=\"M18.56 5.44l.94 2.06.94-2.06 2.06-.94-2.06-.94-.94-2.06-.94 2.06-2.06.94zm-11 1L8.5 8.5l.94-2.06 2.06-.94-2.06-.94L8.5 2.5l-.94 2.06-2.06.94zm10 10l.94 2.06.94-2.06 2.06-.94-2.06-.94-.94-2.06-.94 2.06-2.06.94z\"/><path d=\"M17.41 7.96l-1.37-1.37c-.4-.4-.92-.59-1.43-.59-.52 0-1.04.2-1.43.59L10.3 9.45l-7.72 7.72c-.78.78-.78 2.05 0 2.83L4 21.41c.39.39.9.59 1.41.59.51 0 1.02-.2 1.41-.59l7.78-7.78 2.81-2.81c.8-.78.8-2.07 0-2.86zM5.41 20L4 18.59l7.72-7.72 1.47 1.35L5.41 20z\"/>\n",
              "  </svg>\n",
              "      </button>\n",
              "      \n",
              "  <style>\n",
              "    .colab-df-container {\n",
              "      display:flex;\n",
              "      flex-wrap:wrap;\n",
              "      gap: 12px;\n",
              "    }\n",
              "\n",
              "    .colab-df-convert {\n",
              "      background-color: #E8F0FE;\n",
              "      border: none;\n",
              "      border-radius: 50%;\n",
              "      cursor: pointer;\n",
              "      display: none;\n",
              "      fill: #1967D2;\n",
              "      height: 32px;\n",
              "      padding: 0 0 0 0;\n",
              "      width: 32px;\n",
              "    }\n",
              "\n",
              "    .colab-df-convert:hover {\n",
              "      background-color: #E2EBFA;\n",
              "      box-shadow: 0px 1px 2px rgba(60, 64, 67, 0.3), 0px 1px 3px 1px rgba(60, 64, 67, 0.15);\n",
              "      fill: #174EA6;\n",
              "    }\n",
              "\n",
              "    [theme=dark] .colab-df-convert {\n",
              "      background-color: #3B4455;\n",
              "      fill: #D2E3FC;\n",
              "    }\n",
              "\n",
              "    [theme=dark] .colab-df-convert:hover {\n",
              "      background-color: #434B5C;\n",
              "      box-shadow: 0px 1px 3px 1px rgba(0, 0, 0, 0.15);\n",
              "      filter: drop-shadow(0px 1px 2px rgba(0, 0, 0, 0.3));\n",
              "      fill: #FFFFFF;\n",
              "    }\n",
              "  </style>\n",
              "\n",
              "      <script>\n",
              "        const buttonEl =\n",
              "          document.querySelector('#df-dc19d6e5-837e-4344-bd81-59e08d644e4d button.colab-df-convert');\n",
              "        buttonEl.style.display =\n",
              "          google.colab.kernel.accessAllowed ? 'block' : 'none';\n",
              "\n",
              "        async function convertToInteractive(key) {\n",
              "          const element = document.querySelector('#df-dc19d6e5-837e-4344-bd81-59e08d644e4d');\n",
              "          const dataTable =\n",
              "            await google.colab.kernel.invokeFunction('convertToInteractive',\n",
              "                                                     [key], {});\n",
              "          if (!dataTable) return;\n",
              "\n",
              "          const docLinkHtml = 'Like what you see? Visit the ' +\n",
              "            '<a target=\"_blank\" href=https://colab.research.google.com/notebooks/data_table.ipynb>data table notebook</a>'\n",
              "            + ' to learn more about interactive tables.';\n",
              "          element.innerHTML = '';\n",
              "          dataTable['output_type'] = 'display_data';\n",
              "          await google.colab.output.renderOutput(dataTable, element);\n",
              "          const docLink = document.createElement('div');\n",
              "          docLink.innerHTML = docLinkHtml;\n",
              "          element.appendChild(docLink);\n",
              "        }\n",
              "      </script>\n",
              "    </div>\n",
              "  </div>\n",
              "  "
            ]
          },
          "metadata": {},
          "execution_count": 2
        }
      ],
      "source": [
        "raw_data_file = os.path.join(root_data_dir, 'client_segmentation.csv')\n",
        "\n",
        "# задаём типизацию колонок чтобы память экономить\n",
        "df_source = pd.read_csv(\n",
        "    raw_data_file, sep=',',\n",
        "    dtype={\n",
        "        'call_diff': np.float32,\n",
        "        'sms_diff': np.float32,\n",
        "        'traffic_diff': np.float32,\n",
        "        'customes_class': np.uint16})\n",
        "\n",
        "df_source.head(5)"
      ]
    },
    {
      "cell_type": "markdown",
      "metadata": {
        "id": "8yHuOacoGh32"
      },
      "source": [
        "В файле `client_segmentation.csv` содержатся данные по оттоку: информация по клиентам оператора связи о том, как изменилось потребление услуг оператора за два месяца:\n",
        "* call_diff доля звонков\n",
        "* sms_diff доля смс\n",
        "* доля интернет-трафика traffic_diff\n",
        "\n",
        "Значение отрицательное - показатель снизился. Значение превосходит по модулю единицу - потребление кратно выросло. \n",
        "\n",
        "Все показатели вычисляются по формуле\n",
        "\n",
        "$$\n",
        "\\frac{\\text{new_value}-\\text{old_value}}{\\text{old_value}}\n",
        "$$\n",
        "\n",
        "Посмотрим на распределение какой-нибудь фичи, например `sms_diff`"
      ]
    },
    {
      "cell_type": "code",
      "execution_count": 3,
      "metadata": {
        "colab": {
          "base_uri": "https://localhost:8080/",
          "height": 282
        },
        "id": "-fv4JPUEMQvM",
        "outputId": "1f40ff4d-75d8-4c06-dd8f-8ecb20d907d4"
      },
      "outputs": [
        {
          "output_type": "execute_result",
          "data": {
            "text/plain": [
              "<AxesSubplot:>"
            ]
          },
          "metadata": {},
          "execution_count": 3
        },
        {
          "output_type": "display_data",
          "data": {
            "text/plain": [
              "<Figure size 432x288 with 1 Axes>"
            ],
            "image/png": "[encoded data removed]"
          },
          "metadata": {
            "needs_background": "light"
          }
        }
      ],
      "source": [
        "df_source.sms_diff.hist(bins=8)"
      ]
    },
    {
      "cell_type": "markdown",
      "metadata": {
        "id": "bRVSDIg-MI0A"
      },
      "source": [
        "В последней колонке `customes_class` содержится метка по оттоку:\n",
        "* $0$ - активный пользователь\n",
        "* $1$ - \"спящий\" пользователь (редко пользуется услугами)\n",
        "* $2$ - пользователь, который ушел в отток\n",
        "\n",
        "Это наша целевая переменная, хотим её предсказывать"
      ]
    },
    {
      "cell_type": "code",
      "execution_count": 4,
      "metadata": {
        "colab": {
          "base_uri": "https://localhost:8080/"
        },
        "id": "0s9CvHRQFTRt",
        "outputId": "05e9d831-d979-40a6-b690-425780e5513b"
      },
      "outputs": [
        {
          "output_type": "stream",
          "name": "stderr",
          "text": [
            "INFO:__main__:num train samples 100\n"
          ]
        },
        {
          "output_type": "execute_result",
          "data": {
            "text/plain": [
              "0    0.34\n",
              "2    0.33\n",
              "1    0.33\n",
              "Name: customes_class, dtype: float64"
            ]
          },
          "metadata": {},
          "execution_count": 4
        }
      ],
      "source": [
        "logger.info('num train samples %d', df_source.shape[0])\n",
        "df_source.customes_class.value_counts(normalize=True)"
      ]
    },
    {
      "cell_type": "markdown",
      "metadata": {
        "id": "WfH-kDYzOxOg"
      },
      "source": [
        "Видим, что у нас примерно одинакоково представлены все классы. Ситуация, когда один класс представлен слишком сильно и ли наоборот слишком слабо в выборке называется \"дисбаланс классов\". \n",
        "\n",
        "Есть два основных приёма решения проблемы дисбаланса\n",
        "* undersampling доминирующего класса\n",
        "* oversampling класса с меньшим числом элементов"
      ]
    },
    {
      "cell_type": "markdown",
      "metadata": {
        "id": "TBjQdIrE-eCP"
      },
      "source": [
        "Важный момент: дальше мы будем решать задачу классификации на 2 класса\n",
        "\n",
        "Для этого искусственно разделим класс `2` между классами `0` и `1`"
      ]
    },
    {
      "cell_type": "code",
      "execution_count": 5,
      "metadata": {
        "id": "OYG0dhnb-ePE"
      },
      "outputs": [],
      "source": [
        "df_source[(df_source.customes_class==2) & (df_source.call_diff>1.1)] = 0\n",
        "df_source[(df_source.customes_class==2) & (df_source.call_diff<=1.1)] = 1\n",
        "\n",
        "X = df_source[['call_diff', 'sms_diff', 'traffic_diff']].values\n",
        "y = df_source.customes_class.values"
      ]
    },
    {
      "cell_type": "markdown",
      "metadata": {
        "id": "24t9UyIHWYq0"
      },
      "source": [
        "# Naive Bayes\n",
        "\n",
        "Попробуем для решения задачи использовать классификатор \"из коробки\": воспользуемся  [наивным Байесовским классификатором](https://scikit-learn.org/stable/modules/naive_bayes.html). Кстати, реализация содержит функцию `.partial_fit()` с которой мы уже встречались! Вспомните где именно.\n",
        "\n",
        "Этот классификатор основан на частотах встречаемости фичей. У нас фичи непрерывные, так что вместо частот будем использовать вероятности.\n",
        "\n",
        "Классификатор очень быстро обучается, т.к. по сути нам нужно просто посчитать разные статистики по выборке - никакого градиентного спуска тут нет."
      ]
    },
    {
      "cell_type": "markdown",
      "metadata": {
        "id": "sdTe9oROb29N"
      },
      "source": [
        "Пусть $c$ - класс объекта (у нас три класса) тогда мы берём объект и предсказываем вероятности по формуле Байеса для всех трёх классов, а класс объекту присваиваем тот, у которого максимальная вероятность - это называется Maximum a posteriori (MAP) estimation, метод максимальной апостериорной вероятности (потому что формула Байеса для вычисляет апостериорную вероятность гипотезы) \n",
        "\n",
        "$$\n",
        "c_{MAP} = \\arg \\max_{\\substack{c \\in C}}P(c \\mid X) = \\arg \\max_{\\substack{c \\in C}}\\frac{P(c)P(X\\mid c)}{P(X)}\n",
        "$$\n",
        "\n",
        "В формуле\n",
        "* P(c) - вероятность класса, его встречаемость\n",
        "* P(X|c) - вероятность встретить объект с конкретными фичами в конкретном классе, то есть насколько объект ожидаемо встретить в классе $c$\n",
        "* P(X) - распределение данных. Т.к. мы ищем максимум по всем $c$, а знаменатель от C не зависит, то его вообще можно не учитывать\n",
        "\n",
        "Для начала вычислим априорные вероятности классов $P(c)$"
      ]
    },
    {
      "cell_type": "code",
      "execution_count": 6,
      "metadata": {
        "colab": {
          "base_uri": "https://localhost:8080/"
        },
        "id": "A93ouFqxkqiI",
        "outputId": "e8cf8320-ddf4-4222-a900-7c51e9713f36"
      },
      "outputs": [
        {
          "output_type": "stream",
          "name": "stdout",
          "text": [
            "Counter({1: 66, 0: 34})\n",
            "{0: 0.34, 1: 0.66}\n"
          ]
        }
      ],
      "source": [
        "num_samples = df_source.shape[0]  # число объектов\n",
        "prior_class_counts = Counter(y)  # группируем по классу и считаем количество объектов каждого класса\n",
        "prior_class_probs = dict()  # тут будем хранить  априорные вероятности классов\n",
        "print(prior_class_counts)\n",
        "\n",
        "for class_label in prior_class_counts:\n",
        "    prior_class_probs[class_label] = prior_class_counts[class_label] / num_samples\n",
        "print(prior_class_probs)"
      ]
    },
    {
      "cell_type": "markdown",
      "metadata": {
        "id": "TF79r5QQmB6u"
      },
      "source": [
        "Как посчитать $P(X\\mid c)$? Каждый объект $x \\in X$ состоит из фичей, это вектор $x = [x_1, \\ldots, n_n ]$, в нашем случае из трех элементов (у нас три фичи). Классификатор называется *наивным*, потому что мы делаем предположение о независимости фичей - в этом случае совместное распределение можно расписать через произведение маргинальных распределений\n",
        "\n",
        "$$\n",
        "P(X\\mid c) = P(x_1\\ldots x_n\\mid c) = P(x_1 \\mid c)\\cdot \\ldots \\cdot P(x_n\\mid c) = \\prod_{i=1}^nP(x_i\\mid c)\n",
        "$$\n",
        "\n",
        "Небольшое преобразование: т.к. ищем максимум то можем применить логарифм чтобы перейти от произведения к сумме (т.к. логарифм фозрастающая функция и на точку максимума не влияет)\n",
        "\n",
        "$$\n",
        "\\ln P(X\\mid c) = \\ln\\prod_{i=1}^nP(x_i\\mid c) = \\sum_{i=1}^n\\log P(x_i\\mid c)\n",
        "$$\n",
        "\n",
        "Как для конкретной фичи $x_i$ найти $P(x_i\\mid c)$? Для непрерывной фичи придётся ввести предположение о том, что фича имеет гауссовское распределение, то есть \n",
        "\n",
        "$$\n",
        "P(x_i\\mid c) = \\frac{1}{\\sqrt{2\\pi \\sigma^2_{x|c}}}\\exp\\left(-\\frac{(x - \\mu_{x|c})^2}{2\\sigma^2_{x|c}}\\right)\n",
        "$$\n",
        "\n",
        "Где $\\sigma_{x|c}$ - СКО фичи $x$ для класса $c$, $\\mu_{x|c}$ - МО фичи $x$ для класса $c$. Это параметры гауссовского распределения - их мы оценим по выборке.\n",
        "\n",
        "Алгоритм оценки параметров следующий:\n",
        "* берём класс $c$\n",
        "* оставляем в датасете только примеры этого класса $c$\n",
        "* вычисляем $\\sigma_{x|c}$ и $\\mu_{x|c}$\n",
        "\n",
        "В результате получим словарь, где ключ - имя фичи, а значение - вложенный словарь, где ключ - метка класса, а значение - параметры гауссовского распределения фичи в этом классе, то есть получаем структуру вида \n",
        "```python\n",
        "{\n",
        "  class_1: {mu: some_value, sigma: some_value},\n",
        "  class_2: {mu: some_value, sigma: some_value},\n",
        "  class_3: {mu: some_value, sigma: some_value}\n",
        "}\n",
        "```\n",
        "\n",
        "Работать будем с `pandas.DataFrame` чтобы упростить фильтрацию и подсчёт статистик"
      ]
    },
    {
      "cell_type": "code",
      "execution_count": 7,
      "metadata": {
        "colab": {
          "base_uri": "https://localhost:8080/"
        },
        "id": "A-ppCrOZDeix",
        "outputId": "fbba3fc1-37b2-470e-ca7a-7b3303e827a9"
      },
      "outputs": [
        {
          "output_type": "stream",
          "name": "stdout",
          "text": [
            "call_diff\n"
          ]
        },
        {
          "output_type": "execute_result",
          "data": {
            "text/plain": [
              "{0: {'mu': -1.0015249, 'sigma': 0.74156827},\n",
              " 1: {'mu': 1.1297727, 'sigma': 0.44200704}}"
            ]
          },
          "metadata": {},
          "execution_count": 7
        }
      ],
      "source": [
        "target_col = 'customes_class'\n",
        "feature_names = ['call_diff', 'sms_diff', 'traffic_diff']\n",
        "\n",
        "feature_proba_param = defaultdict(dict)\n",
        "for col in feature_names:  # цикл по фичам\n",
        "    for class_id in prior_class_probs:  # цикл по классам\n",
        "        feature_values = df_source[df_source[target_col]==class_id][col]  # отфильтруем фичу по классу\n",
        "        feature_proba_param[col][class_id] = {'mu': feature_values.mean(),\n",
        "                                              'sigma': feature_values.std()}\n",
        "# посмотрим распределение статистике по конкретной фиче\n",
        "feature_example = 'call_diff'\n",
        "print(feature_example)\n",
        "feature_proba_param[feature_example]"
      ]
    },
    {
      "cell_type": "markdown",
      "metadata": {
        "id": "_Olp_nmJWc4w"
      },
      "source": [
        "По сути мы нашли  параметры распределения - можем посчитать вероятности классов\n",
        "\n",
        "Теперь можем построить алгоритм предсказания с помощью MAP\n",
        "* для объекта $x$ считаем $P(c_1 | X), P(c_2 | X), P(c_3 | X)$\n",
        "* выбираем максимальную вероятность - это и будет наше предсказание\n",
        "\n",
        "время познакомиться с библиотекой [scipy](https://docs.scipy.org/) - оттуда возьмём реализацию $P(X | c)$ для [распределения Гаусса](https://docs.scipy.org/doc/scipy/reference/generated/scipy.stats.norm.html)"
      ]
    },
    {
      "cell_type": "code",
      "execution_count": 8,
      "metadata": {
        "id": "JD2snl5Qk9v-"
      },
      "outputs": [],
      "source": [
        "def eval_bayes(row):\n",
        "    log_classes_probas = defaultdict(float)  # т.к. нужно собирать сумму из разных фичей\n",
        "    for feature in feature_names:\n",
        "        feature_params = feature_proba_param[feature]  # извлекаем параметры распределения фичи (там три класса)\n",
        "        for class_id in feature_params:  # считаем априорную вероятность получить такое значение фичи в каждом классе\n",
        "            feature_class_params = feature_params[class_id]  # достаём параметры распределения (mu, sigma), которые посчитали на предыдущем шаге\n",
        "            feature_class_proba = norm.pdf(row[feature],\n",
        "                                           loc=feature_class_params['mu'],\n",
        "                                           scale=feature_class_params['sigma'])\n",
        "            # вероятность в интервале [0, 1] - там отрицательные значения логарифма\n",
        "            log_classes_probas[class_id] += np.log(feature_class_proba)\n",
        "    sorted_log_classes_probas = sorted(log_classes_probas.items(),\n",
        "                                       key = lambda x: x[1], reverse=True)\n",
        "    predicted_class, predicted_class_proba = sorted_log_classes_probas[0]\n",
        "    return predicted_class, predicted_class_proba"
      ]
    },
    {
      "cell_type": "code",
      "execution_count": 9,
      "metadata": {
        "id": "AtIXzsLkk9v_"
      },
      "outputs": [],
      "source": [
        "def predict(input_df):\n",
        "    res = []\n",
        "    for _, row in input_df.iterrows():\n",
        "        class_label, _ = eval_bayes(row)\n",
        "        res.append(class_label)\n",
        "    return res"
      ]
    },
    {
      "cell_type": "code",
      "execution_count": 10,
      "metadata": {
        "id": "Q-yZ21wxk9v_"
      },
      "outputs": [],
      "source": [
        "def predict_proba(input_df):\n",
        "    res = []\n",
        "    for _, row in input_df.iterrows():\n",
        "        _, class_proba = eval_bayes(row)\n",
        "        res.append(class_proba)\n",
        "    return res"
      ]
    },
    {
      "cell_type": "code",
      "execution_count": 11,
      "metadata": {
        "colab": {
          "base_uri": "https://localhost:8080/"
        },
        "id": "zkIb6pW5cdWe",
        "outputId": "0b9f2385-ae92-4ac5-a53f-b1bc2d86f42b"
      },
      "outputs": [
        {
          "output_type": "stream",
          "name": "stderr",
          "text": [
            "INFO:__main__:Предсказания построены, accuracy = 0.96\n"
          ]
        }
      ],
      "source": [
        "# predict_proba(df_source[feature_names].head(1))\n",
        "predicted_classes_custom_nb = predict(df_source[feature_names])\n",
        "accuracy = (predicted_classes_custom_nb == y).sum() / len(y)\n",
        "logger.info('Предсказания построены, accuracy = %.2f', accuracy)"
      ]
    },
    {
      "cell_type": "markdown",
      "metadata": {
        "id": "VKEYoSZTJ3Nn"
      },
      "source": [
        "Проверим точность классификатора в реализации sklearn"
      ]
    },
    {
      "cell_type": "code",
      "execution_count": 12,
      "metadata": {
        "colab": {
          "base_uri": "https://localhost:8080/"
        },
        "id": "UkfYulXpJ4xR",
        "outputId": "4d1c04eb-cef0-4843-90e2-abe9d68b7418"
      },
      "outputs": [
        {
          "output_type": "stream",
          "name": "stderr",
          "text": [
            "INFO:__main__:Предсказания построены, accuracy = 0.97\n"
          ]
        }
      ],
      "source": [
        "naive_bayes = GaussianNB()  # создаём экземпляр класса\n",
        "naive_bayes.fit(X, y)  # обучение модели\n",
        "predicted_classes_nb = naive_bayes.predict(X)  # предсказание (эксплуатация модели)\n",
        "\n",
        "accuracy = (predicted_classes_nb == y).sum() / len(y)\n",
        "\n",
        "logger.info('Предсказания построены, accuracy = %.2f', accuracy)"
      ]
    },
    {
      "cell_type": "markdown",
      "metadata": {
        "id": "9wL9jMuT8uWM"
      },
      "source": [
        "Визуализируем confusion matrix"
      ]
    },
    {
      "cell_type": "code",
      "execution_count": 13,
      "metadata": {
        "id": "9QMOv3ipk9wA"
      },
      "outputs": [],
      "source": [
        "X = df_source[['call_diff','sms_diff','traffic_diff']].values\n",
        "y = df_source.customes_class.values"
      ]
    },
    {
      "cell_type": "code",
      "execution_count": 14,
      "metadata": {
        "id": "55x7gfD1k9wA"
      },
      "outputs": [],
      "source": [
        "def plot_confusion_matrix(cm, classes,\n",
        "                          title='Confusion matrix',\n",
        "                          cmap=plt.cm.Blues):\n",
        "    \"\"\"\n",
        "    This function prints and plots the confusion matrix.\n",
        "    Normalization can be applied by setting `normalize=True`.\n",
        "    \"\"\"\n",
        "    plt.imshow(cm, interpolation='nearest', cmap=cmap)\n",
        "    plt.title(title)\n",
        "    plt.colorbar()\n",
        "    tick_marks = np.arange(len(classes))\n",
        "    plt.xticks(tick_marks, classes, rotation=45)\n",
        "    plt.yticks(tick_marks, classes)\n",
        "\n",
        "    thresh = cm.max() / 2.\n",
        "    for i, j in itertools.product(range(cm.shape[0]), range(cm.shape[1])):\n",
        "        plt.text(j, i, cm[i, j],\n",
        "                 horizontalalignment=\"center\",\n",
        "                 color=\"white\" if cm[i, j] > thresh else \"black\")"
      ]
    },
    {
      "cell_type": "code",
      "execution_count": 15,
      "metadata": {
        "colab": {
          "base_uri": "https://localhost:8080/",
          "height": 317
        },
        "id": "rc5zz3ft8uk7",
        "outputId": "7a007b9b-f36f-453f-ea0a-56174ba70857"
      },
      "outputs": [
        {
          "output_type": "stream",
          "name": "stdout",
          "text": [
            "Кoличество объектов в тестовой выборке: 33\n"
          ]
        },
        {
          "output_type": "display_data",
          "data": {
            "text/plain": [
              "<Figure size 432x288 with 2 Axes>"
            ],
            "image/png": "[encoded data removed]"
          },
          "metadata": {
            "needs_background": "light"
          }
        }
      ],
      "source": [
        "X_train, X_test, y_train, y_test = train_test_split(\n",
        "    X, y, test_size=0.33, random_state=RANDOM_SEED)\n",
        "naive_bayes.fit(X_train, y_train)\n",
        "y_pred = naive_bayes.predict(X_test)\n",
        "\n",
        "conf_matrix = confusion_matrix(y_test, y_pred)\n",
        "plot_confusion_matrix(\n",
        "    conf_matrix,\n",
        "    classes=['active', 'churn'],\n",
        "    title='Confusion matrix, without normalization')\n",
        "print(f'Кoличество объектов в тестовой выборке: {len(y_pred)}')"
      ]
    },
    {
      "cell_type": "markdown",
      "metadata": {
        "id": "01QfKZ0vHcSQ"
      },
      "source": [
        "Самостоятельное задание: постройте бейзлайн в виде рандомного предсказания классов. Выбор класса должен делаться случайным образом, но вероятность класса $1$ возьмите такую же, как в исходном датасете. "
      ]
    },
    {
      "cell_type": "code",
      "execution_count": 16,
      "metadata": {
        "id": "7lFdOwB8HPLx"
      },
      "outputs": [],
      "source": [
        "# --------- ВАШ КОД ТУТ --------\n",
        "def random_baseline(class_dict: dict, data_to_label: list) -> list:\n",
        "    \"\"\"\n",
        "    Функция приписывает классы из словаря class_dict случайным образом,\n",
        "    опираясь на вероятностть каждого класса.\n",
        "    :param class_dict: классы и их вероятности\n",
        "    :param data_to_label: данные для классификации\n",
        "    :return: полученные метки\n",
        "    \"\"\"\n",
        "    classes = list(class_dict.keys())  # классы\n",
        "    raw_weights = list(class_dict.values())  # веса\n",
        "    weights = [float(i)/sum(raw_weights) for i in raw_weights]  # нормированные веса\n",
        "    n_samples = len(data_to_label)  # число сэмплов на классификацию\n",
        "\n",
        "    # получаем \"предсказания\"\n",
        "    random_labels = random.choices(classes, weights=weights, k=n_samples)\n",
        "    print(Counter(random_labels))\n",
        "\n",
        "    return random_labels\n",
        "# ------------------------------"
      ]
    },
    {
      "cell_type": "code",
      "execution_count": 17,
      "metadata": {
        "colab": {
          "base_uri": "https://localhost:8080/"
        },
        "id": "OViu9al6m7w6",
        "outputId": "3c858bac-a2e1-42d3-bd7e-12b8707cc466"
      },
      "outputs": [
        {
          "output_type": "stream",
          "name": "stdout",
          "text": [
            "Counter({1: 61, 0: 39})\n",
            "Accuracy on random baseline: 0.57\n"
          ]
        }
      ],
      "source": [
        "# --------- ВАШ КОД ТУТ --------\n",
        "random_preds = random_baseline(prior_class_probs, X)\n",
        "print('Accuracy on random baseline:', accuracy_score(random_preds, y))\n",
        "# ------------------------------"
      ]
    },
    {
      "cell_type": "code",
      "execution_count": 18,
      "metadata": {
        "colab": {
          "base_uri": "https://localhost:8080/",
          "height": 282
        },
        "id": "qgyDt1zPy1xx",
        "outputId": "23da8f5b-5dc6-48d4-c35a-fecbf63bc447"
      },
      "outputs": [
        {
          "output_type": "execute_result",
          "data": {
            "text/plain": [
              "[<matplotlib.lines.Line2D at 0x7f6f630cf0d0>]"
            ]
          },
          "metadata": {},
          "execution_count": 18
        },
        {
          "output_type": "display_data",
          "data": {
            "text/plain": [
              "<Figure size 432x288 with 1 Axes>"
            ],
            "image/png": "[encoded data removed]"
          },
          "metadata": {
            "needs_background": "light"
          }
        }
      ],
      "source": [
        "x_space = np.linspace(0.00001, 1, num=100)\n",
        "plt.plot(x_space, np.log(x_space))"
      ]
    },
    {
      "cell_type": "markdown",
      "metadata": {
        "id": "oKFo_vOjS9mo"
      },
      "source": [
        "# Logistic regression\n",
        "\n",
        "Другой интересный классификатор, для обучения которого уже применим градиентный спуск - это логистическая регрессия\n",
        "\n",
        "Для понимания логистической регресси представим что у нас есть задача бинарной классификации, где два класса: класс $1$ (успех) и класс $0$ (неуспех), вероятность успеха обозначим $p$\n",
        "\n",
        "Шансы на успех (odds) - это отношение числа успехов  к числу неуспехов\n",
        "\n",
        "$$\n",
        "odds = \\frac{p}{1-p}\n",
        "$$\n",
        "\n",
        "В отличие от вероятности эта величина может быть как меньше единицы (если вероятность успеха меньше $0.5$) так и больше единицы (если вероятность успеха больше $0.5$). Термин шировко применяется в ставках: допустим, мы выиграли в 15 играх из 100: в этом случае шансы на успех всего $\\frac{15}{85}=\\frac{3}{17}=0.17$ c другой стороны, если выиграть 60 игр из 100 то шансы на успех уже $\\frac{60}{40}=\\frac{3}{2}=1.5$\n"
      ]
    },
    {
      "cell_type": "markdown",
      "metadata": {
        "id": "04S9DExCbv2B"
      },
      "source": [
        "\n",
        "Теперь проведем небольшьшой трюк и логарифмируем наши шансы на успех\n",
        "\n",
        "$$\n",
        "\\log odds = \\log \\frac{p}{1-p}\n",
        "$$\n",
        "\n",
        "График логарифма мы строили ранее в этом семинаре: для значений от $0$ до $1$ получим отрицательные значения, выше - положительные\n",
        "\n",
        "Мы знаем, что линейная регрессия $\\hat{y} = w_0x_0 + \\ldots w_nx_n$ \"умеет\" предсказывать величины от $-\\infty$ до $\\infty$. Получается, мы по данным $X$ хотим предсказывать шансы на успех (как в ставках на спорт), например для конкретного объекта x у которого $n$ фичей:\n",
        "\n",
        "$$\n",
        "w_0x_0 + \\ldots w_nx_n = \\overline{w}x = \\log \\frac{p}{1-p}\n",
        "$$\n",
        "\n",
        "Превращаем логарифм в экспоненту\n",
        "$$\n",
        "\\exp(\\overline{w}x) = \\frac{p}{1-p}\n",
        "$$\n",
        "\n",
        "И окончательно выражаем вероятность успеха $p$ для конкретного объекта $x_i$:\n",
        "$$\n",
        "p_i = \\frac{1}{1+e^{-\\overline{w}x_i}}\n",
        "$$\n",
        "\n",
        "Функция $\\sigma (z) = \\frac{1}{1+e^{-z}}$ называеся *сигмоидой* - в курсе по нейросетям с сигмоидой вы встретитесь ещё не раз. Она обладает рядом интересных свойств, например $\\sigma (-z) = 1 - \\sigma (z)$"
      ]
    },
    {
      "cell_type": "markdown",
      "metadata": {
        "id": "ckxq2YSQMVCV"
      },
      "source": [
        "Дальше нужно подобрать оптимальные веса $w$. В задаче линейной регресси эмпирический риск $Q_{\\text{emp}}$ мы считали как сумму квадратов отклонений предикта от таргета. Тут мы аналогично алгоритму наивного байеса воспользуемся достижениями из тервера и выпишем *правдоподобие данных* для выборки из распределения Бернулли (т.к. $y_i=0$ либо $y_i=1$ ) размера $N$:\n",
        "$$\n",
        "P(y | X, w) = \\prod_{i}^N p^{y_i}(1-p)^{1-y_i}\n",
        "$$\n",
        "Чтобы избавиться от произведения переходим к логарифмам (т.к. нам нужно найти точку максимума и логарифмирование на эту точку всё равно не повлияет)\n",
        "$$\n",
        "\\log P(y | X, w) = \\sum_{i}^{N} y_i \\log p_i + (1-y_i)\\log(1-p_i)\n",
        "$$\n",
        "\n",
        "Т.к. $p=\\sigma (z)$ и $\\sigma (-z) = 1 - \\sigma (z)$ то окончательно получаем\n",
        "$$\n",
        "\\log P(y | X, w) = \\sum_{i}^{N} y_i \\log \\sigma (z) + (1-y_i)\\log(\\sigma (-z))\n",
        "$$\n",
        "\n",
        "Правдоподобие нужно *максимизировать*, тогда функционал эмпирического риска, который мы минимизируем:\n",
        "$$\n",
        "L(y, X, w) = - \\sum_{i}^{N} y_i \\log \\sigma (z) + (1-y_i)\\log(\\sigma (-z))\n",
        "$$"
      ]
    },
    {
      "cell_type": "markdown",
      "metadata": {
        "id": "pZR5YBFVY9pX"
      },
      "source": [
        "Кстати, такая функция потерь называется \"бинарная кросс-энтропия\" или *BCE (binary cross-entropy loss)*. Аналитическое решение тут уже нельзя найти, зато отлично будет работать градиентный спуск, нужно только найти градиент функции потерь $L(Y, X, w)$\n",
        "\n",
        "$$\n",
        "\\nabla L = \\frac{1}{N}\\left(Y - \\hat{Y}\\right)\\cdot X\n",
        "$$\n",
        "\n",
        "Здесь $X$ - матрица объекты-признаки, а $\\hat{Y} = \\sigma(\\overline{w}x)$.одробнее про вывод этой формулы можно почитать в разделе про [логиcтическую регрессию](https://ml-handbook.ru/chapters/linear_models/intro) - только там не совсем правильно, т.к. нет усреднения ошибки.\n",
        "\n",
        "Можем реализовать на python (вот [тут](https://towardsdatascience.com/logistic-regression-from-scratch-in-python-ec66603592e2) подробнее и с картинками). Для начала сигмоиду"
      ]
    },
    {
      "cell_type": "code",
      "execution_count": 19,
      "metadata": {
        "id": "6c3jMEPkk9wB"
      },
      "outputs": [],
      "source": [
        "def sigmoid(z):\n",
        "    return 1 / ( 1. + np.exp(-z))"
      ]
    },
    {
      "cell_type": "code",
      "execution_count": 20,
      "metadata": {
        "colab": {
          "base_uri": "https://localhost:8080/"
        },
        "id": "Ldg_woQYiN8H",
        "outputId": "fa49a638-bc4f-4ec9-a172-aea90f0b946a"
      },
      "outputs": [
        {
          "output_type": "execute_result",
          "data": {
            "text/plain": [
              "array([0.73105858, 0.88079708, 0.95257413, 0.99330715])"
            ]
          },
          "metadata": {},
          "execution_count": 20
        }
      ],
      "source": [
        "x = np.array([1, 2, 3, 5])\n",
        "sigmoid(x)"
      ]
    },
    {
      "cell_type": "markdown",
      "metadata": {
        "id": "mk7b8zAeiOJX"
      },
      "source": [
        "Далее собственно градиентный спуск"
      ]
    },
    {
      "cell_type": "code",
      "execution_count": 21,
      "metadata": {
        "id": "9EG8gKaOM359"
      },
      "outputs": [],
      "source": [
        "def gradient(X, y, w, alpha=0) -> np.array:\n",
        "    \"\"\"Вычисляем градиент в точке\"\"\"\n",
        "    # количество обучающих примеров в выборке\n",
        "    n = X.shape[0]\n",
        "    # считаем прогноз\n",
        "    y_hat = sigmoid(X.dot(w.T))\n",
        "    # вычисляем ошибку прогноза\n",
        "    error = (y - y_hat).reshape(1, -1)\n",
        "    # дальше pointwise перемножение - умножаем каждую из координат на ошибку\n",
        "    grad = (-1.) * error.dot(X) / n\n",
        "    return grad, error"
      ]
    },
    {
      "cell_type": "code",
      "execution_count": 22,
      "metadata": {
        "id": "l7LjjQGgk9wC"
      },
      "outputs": [],
      "source": [
        "def eval_w_next(X, y, eta, w_current):\n",
        "    \"\"\"Делаем шаг градиентного спуска\"\"\"\n",
        "    # вычисляем градиент\n",
        "    grad, error = gradient(X, y, w_current)\n",
        "    # делаем шаг градиентного спуска\n",
        "    w_next = w_current - eta*grad\n",
        "    # проверяем условие сходимости\n",
        "    weight_evolution = np.linalg.norm(w_current - w_next)\n",
        "    return (w_next, weight_evolution, grad)"
      ]
    },
    {
      "cell_type": "markdown",
      "metadata": {
        "id": "1Q6wsAJEvh2P"
      },
      "source": [
        "Повторяем шаги до сходимости"
      ]
    },
    {
      "cell_type": "code",
      "execution_count": 23,
      "metadata": {
        "id": "eOsPj0sMk9wC"
      },
      "outputs": [],
      "source": [
        "def gradient_descent(X: np.array, y: np.array, eta=0.01, epsilon=0.001) -> np.array:\n",
        "    m = X.shape[1] # количество фичей\n",
        "    # инициализируем рандомом веса\n",
        "    w = np.random.random(m).reshape(1, -1)\n",
        "    w_next, weight_evolution, grad = eval_w_next(X, y, eta, w)\n",
        "    step = 0\n",
        "    # повторяем до сходимости вектора весов\n",
        "    while weight_evolution > epsilon:\n",
        "        w = w_next\n",
        "        w_next, weight_evolution, grad = eval_w_next(X, y, eta, w)\n",
        "        step += 1\n",
        "        if step % 100 == 0:\n",
        "            print(\"step %s |w-w_next|=%.5f, grad=%s\" % (step, weight_evolution, grad))\n",
        "    return w"
      ]
    },
    {
      "cell_type": "code",
      "execution_count": 24,
      "metadata": {
        "colab": {
          "base_uri": "https://localhost:8080/"
        },
        "id": "sOqZ7iXMvhV8",
        "outputId": "e4739fda-7064-4550-d03a-22977e33e75c"
      },
      "outputs": [
        {
          "output_type": "stream",
          "name": "stdout",
          "text": [
            "step 100 |w-w_next|=0.00261, grad=[[ 0.125093   -0.19834123  0.11547355  0.19598885]]\n",
            "step 200 |w-w_next|=0.00198, grad=[[ 0.08610806 -0.16699686  0.07186882  0.14368745]]\n",
            "step 300 |w-w_next|=0.00155, grad=[[ 0.05931511 -0.14527625  0.04183827  0.10581495]]\n",
            "step 400 |w-w_next|=0.00128, grad=[[ 0.04179579 -0.12970666  0.02216965  0.08031285]]\n",
            "step 500 |w-w_next|=0.00110, grad=[[ 0.0304415  -0.11781693  0.00936624  0.06334995]]\n"
          ]
        }
      ],
      "source": [
        "# добавляем тривиальный признак w_0, столбец из единиц. См. прошлый урок, почему так\n",
        "X_extended = np.hstack([\n",
        "    np.ones(X.shape[0]).reshape(-1,1),\n",
        "    X])\n",
        "w = gradient_descent(\n",
        "    X_extended,\n",
        "    y.reshape(-1, 1),\n",
        "    eta=0.008)"
      ]
    },
    {
      "cell_type": "code",
      "execution_count": 25,
      "metadata": {
        "colab": {
          "base_uri": "https://localhost:8080/"
        },
        "id": "jzQfGJIJQc2R",
        "outputId": "2e10511f-6aa4-418a-d9b8-fd258f493071"
      },
      "outputs": [
        {
          "output_type": "execute_result",
          "data": {
            "text/plain": [
              "(100, 4)"
            ]
          },
          "metadata": {},
          "execution_count": 25
        }
      ],
      "source": [
        "X_extended.shape"
      ]
    },
    {
      "cell_type": "code",
      "execution_count": 26,
      "metadata": {
        "id": "gBjQql0nk9wC"
      },
      "outputs": [],
      "source": [
        "def predict(X, w):\n",
        "    y_probas = sigmoid(X.dot(w.T))\n",
        "    y_hat = np.zeros_like(y_probas)\n",
        "    y_hat[np.where(y_probas >= 0.5)] = 1\n",
        "    y_hat[np.where(y_probas < 0.5)] = 0\n",
        "    y_hat = y_hat.flatten().astype(np.uint16)\n",
        "    return y_hat"
      ]
    },
    {
      "cell_type": "code",
      "execution_count": 27,
      "metadata": {
        "colab": {
          "base_uri": "https://localhost:8080/"
        },
        "id": "hhsL462DKBUa",
        "outputId": "37c08612-fa48-4419-c407-17a468a9f0fe"
      },
      "outputs": [
        {
          "output_type": "stream",
          "name": "stderr",
          "text": [
            "INFO:__main__:Предсказания построены, accuracy = 0.96\n"
          ]
        }
      ],
      "source": [
        "predicted_classes_custom_lrg = predict(X_extended, w)\n",
        "accuracy = (predicted_classes_custom_lrg == y).sum() / len(y)\n",
        "logger.info('Предсказания построены, accuracy = %.2f', accuracy)"
      ]
    },
    {
      "cell_type": "markdown",
      "metadata": {
        "id": "w2aXqIpKE_0n"
      },
      "source": [
        "Сравним с \"коробочной\" реализацией"
      ]
    },
    {
      "cell_type": "code",
      "execution_count": 28,
      "metadata": {
        "colab": {
          "base_uri": "https://localhost:8080/"
        },
        "id": "XCcNQAp0xrwU",
        "outputId": "efb49ed4-58f1-46c7-cf91-d9883271f98c"
      },
      "outputs": [
        {
          "output_type": "stream",
          "name": "stderr",
          "text": [
            "INFO:__main__:Предсказания построены, accuracy = 0.99\n"
          ]
        }
      ],
      "source": [
        "log_reg = LogisticRegression().fit(X, y)\n",
        "\n",
        "predicted_classes_lrg = log_reg.predict(X)\n",
        "accuracy = (predicted_classes_lrg == y).sum() / len(y)\n",
        "logger.info('Предсказания построены, accuracy = %.2f', accuracy)"
      ]
    },
    {
      "cell_type": "markdown",
      "metadata": {
        "id": "S45AjHgCafg3"
      },
      "source": [
        "Самостоятельное задание: посчитать используя библиотеку sklearn и визуализировать ROC-AUC для двух логистических регрессий выше."
      ]
    },
    {
      "cell_type": "code",
      "execution_count": 29,
      "metadata": {
        "colab": {
          "base_uri": "https://localhost:8080/",
          "height": 296
        },
        "id": "Rc3CmRjEzZIz",
        "outputId": "147ab280-bb18-442a-87b0-e5de6006c8b1"
      },
      "outputs": [
        {
          "output_type": "stream",
          "name": "stdout",
          "text": [
            "ROC-AUC score for custom Logistic Regression: 0.999\n"
          ]
        },
        {
          "output_type": "display_data",
          "data": {
            "text/plain": [
              "<Figure size 432x288 with 1 Axes>"
            ],
            "image/png": "[encoded data removed]"
          },
          "metadata": {
            "needs_background": "light"
          }
        }
      ],
      "source": [
        "# --------- ВАШ КОД ТУТ --------\n",
        "from sklearn.metrics import roc_auc_score, RocCurveDisplay\n",
        "\n",
        "# наша реализация\n",
        "custom_y_probas = sigmoid(X_extended.dot(w.T))\n",
        "custom_lrg_roc_auc = roc_auc_score(y, custom_y_probas)\n",
        "print('ROC-AUC score for custom Logistic Regression:',\n",
        "      round(custom_lrg_roc_auc, 3))\n",
        "\n",
        "custom_lrg_disp = RocCurveDisplay.from_predictions(\n",
        "    y, custom_y_probas)\n",
        "plt.show()\n",
        "\n",
        "# ------------------------------"
      ]
    },
    {
      "cell_type": "code",
      "execution_count": 30,
      "metadata": {
        "colab": {
          "base_uri": "https://localhost:8080/",
          "height": 296
        },
        "id": "VTv0oAbxmbFS",
        "outputId": "57f03bf9-3228-4657-d8ac-75476ac79c91"
      },
      "outputs": [
        {
          "output_type": "stream",
          "name": "stdout",
          "text": [
            "ROC-AUC score for Sklearn Logistic Regression: 1.0\n"
          ]
        },
        {
          "output_type": "display_data",
          "data": {
            "text/plain": [
              "<Figure size 432x288 with 1 Axes>"
            ],
            "image/png": "[encoded data removed]"
          },
          "metadata": {
            "needs_background": "light"
          }
        }
      ],
      "source": [
        "# --------- ВАШ КОД ТУТ --------\n",
        "\n",
        "# реализация sklearn\n",
        "lrg_y_probas = log_reg.predict_proba(X)[:, 1]\n",
        "\n",
        "lrg_roc_auc = roc_auc_score(y, lrg_y_probas)\n",
        "print('ROC-AUC score for Sklearn Logistic Regression:',\n",
        "      round(lrg_roc_auc, 3))\n",
        "\n",
        "lrg_disp = RocCurveDisplay.from_predictions(y, lrg_y_probas)\n",
        "plt.show()\n",
        "# ------------------------------"
      ]
    },
    {
      "cell_type": "markdown",
      "metadata": {
        "id": "ScEVSffCcQHq"
      },
      "source": [
        "Бонус уровень (+2 балла к этому заданию, если есть понижение): самостоятельно реализовать функцию roc_auc_score и сравнить ее с результатами выше."
      ]
    },
    {
      "cell_type": "code",
      "execution_count": 31,
      "metadata": {
        "id": "QabCl6M4czcU"
      },
      "outputs": [],
      "source": [
        "# --------- ВАШ КОД ТУТ --------\n",
        "\n",
        "\n",
        "# кажется, у меня нет понижения :)\n",
        "\n",
        "\n",
        "# --------------------------------"
      ]
    }
  ],
  "metadata": {
    "colab": {
      "provenance": []
    },
    "gpuClass": "standard",
    "kernelspec": {
      "display_name": "Python 3 (ipykernel)",
      "language": "python",
      "name": "python3"
    },
    "language_info": {
      "codemirror_mode": {
        "name": "ipython",
        "version": 3
      },
      "file_extension": ".py",
      "mimetype": "text/x-python",
      "name": "python",
      "nbconvert_exporter": "python",
      "pygments_lexer": "ipython3",
      "version": "3.9.13"
    }
  },
  "nbformat": 4,
  "nbformat_minor": 0
}